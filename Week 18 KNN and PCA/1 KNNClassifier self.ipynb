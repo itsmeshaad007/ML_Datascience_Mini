{
 "cells": [
  {
   "cell_type": "markdown",
   "metadata": {},
   "source": [
    "## K Nearest Neighbour Classifier"
   ]
  },
  {
   "cell_type": "code",
   "execution_count": 1,
   "metadata": {},
   "outputs": [],
   "source": [
    "import pandas as pd\n",
    "import seaborn as sns\n",
    "import matplotlib.pyplot as plt\n",
    "import numpy as np\n",
    "%matplotlib inline"
   ]
  },
  {
   "cell_type": "code",
   "execution_count": 2,
   "metadata": {},
   "outputs": [],
   "source": [
    "from sklearn.datasets import make_classification\n",
    "\n",
    "X, y = make_classification(\n",
    "    n_samples=1000, # 1000 observations \n",
    "    n_features=3, # 3 total features\n",
    "     n_redundant=1,\n",
    "    n_classes=2, # binary target/label \n",
    "    random_state=999 \n",
    ")"
   ]
  },
  {
   "cell_type": "code",
   "execution_count": 3,
   "metadata": {},
   "outputs": [
    {
     "data": {
      "text/plain": [
       "array([[-0.33504974,  0.02852654,  1.16193084],\n",
       "       [-1.37746253, -0.4058213 ,  0.44359618],\n",
       "       [-1.04520026, -0.72334759, -3.10470423],\n",
       "       ...,\n",
       "       [-0.75602574, -0.51816111, -2.20382324],\n",
       "       [ 0.56066316, -0.07335845, -2.15660348],\n",
       "       [-1.87521902, -1.11380394, -4.04620773]])"
      ]
     },
     "execution_count": 3,
     "metadata": {},
     "output_type": "execute_result"
    }
   ],
   "source": [
    "X"
   ]
  },
  {
   "cell_type": "code",
   "execution_count": 4,
   "metadata": {},
   "outputs": [],
   "source": [
    "from sklearn.model_selection import train_test_split"
   ]
  },
  {
   "cell_type": "code",
   "execution_count": 5,
   "metadata": {},
   "outputs": [],
   "source": [
    "X_train, X_test, y_train, y_test = train_test_split(\n",
    "    X, y, test_size=0.33, random_state=42)"
   ]
  },
  {
   "cell_type": "code",
   "execution_count": 6,
   "metadata": {},
   "outputs": [],
   "source": [
    "from sklearn.neighbors import KNeighborsClassifier"
   ]
  },
  {
   "cell_type": "code",
   "execution_count": 7,
   "metadata": {},
   "outputs": [
    {
     "data": {
      "text/plain": [
       "KNeighborsClassifier()"
      ]
     },
     "execution_count": 7,
     "metadata": {},
     "output_type": "execute_result"
    }
   ],
   "source": [
    "classifier=KNeighborsClassifier(n_neighbors=5,algorithm='auto')\n",
    "classifier.fit(X_train,y_train)"
   ]
  },
  {
   "cell_type": "code",
   "execution_count": 8,
   "metadata": {},
   "outputs": [],
   "source": [
    "y_pred=classifier.predict(X_test)"
   ]
  },
  {
   "cell_type": "code",
   "execution_count": 9,
   "metadata": {},
   "outputs": [],
   "source": [
    "from sklearn.metrics import confusion_matrix,accuracy_score,classification_report"
   ]
  },
  {
   "cell_type": "code",
   "execution_count": 10,
   "metadata": {},
   "outputs": [
    {
     "name": "stdout",
     "output_type": "stream",
     "text": [
      "[[158  20]\n",
      " [ 11 141]]\n",
      "0.906060606060606\n",
      "              precision    recall  f1-score   support\n",
      "\n",
      "           0       0.93      0.89      0.91       178\n",
      "           1       0.88      0.93      0.90       152\n",
      "\n",
      "    accuracy                           0.91       330\n",
      "   macro avg       0.91      0.91      0.91       330\n",
      "weighted avg       0.91      0.91      0.91       330\n",
      "\n"
     ]
    }
   ],
   "source": [
    "print(confusion_matrix(y_pred,y_test))\n",
    "print(accuracy_score(y_pred,y_test))\n",
    "print(classification_report(y_pred,y_test))"
   ]
  },
  {
   "cell_type": "code",
   "execution_count": 16,
   "metadata": {},
   "outputs": [],
   "source": [
    "## Task \n",
    "# GridsearchCV\n",
    "accuracy_dict = {}\n",
    "for i in range(1, 100):# k=1,2,3,4,5,6,7,8,9,10\n",
    "\n",
    "## K best \n",
    "    classifier=KNeighborsClassifier(n_neighbors=i,algorithm='auto')\n",
    "    classifier.fit(X_train,y_train)\n",
    "    y_pred=classifier.predict(X_test)\n",
    "    accuracy_dict[i] = accuracy_score(y_pred,y_test)"
   ]
  },
  {
   "cell_type": "code",
   "execution_count": 21,
   "metadata": {},
   "outputs": [
    {
     "data": {
      "text/plain": [
       "{1: 0.8787878787878788,\n",
       " 2: 0.8727272727272727,\n",
       " 3: 0.8878787878787879,\n",
       " 4: 0.896969696969697,\n",
       " 5: 0.906060606060606,\n",
       " 6: 0.896969696969697,\n",
       " 7: 0.9151515151515152,\n",
       " 8: 0.9090909090909091,\n",
       " 9: 0.9121212121212121,\n",
       " 10: 0.906060606060606,\n",
       " 11: 0.9030303030303031,\n",
       " 12: 0.9030303030303031,\n",
       " 13: 0.9030303030303031,\n",
       " 14: 0.9030303030303031,\n",
       " 15: 0.906060606060606,\n",
       " 16: 0.9090909090909091,\n",
       " 17: 0.9,\n",
       " 18: 0.906060606060606,\n",
       " 19: 0.9030303030303031,\n",
       " 20: 0.9030303030303031,\n",
       " 21: 0.9030303030303031,\n",
       " 22: 0.9030303030303031,\n",
       " 23: 0.9030303030303031,\n",
       " 24: 0.906060606060606,\n",
       " 25: 0.906060606060606,\n",
       " 26: 0.9090909090909091,\n",
       " 27: 0.9121212121212121,\n",
       " 28: 0.9090909090909091,\n",
       " 29: 0.906060606060606,\n",
       " 30: 0.906060606060606,\n",
       " 31: 0.9121212121212121,\n",
       " 32: 0.9090909090909091,\n",
       " 33: 0.9121212121212121,\n",
       " 34: 0.906060606060606,\n",
       " 35: 0.9121212121212121,\n",
       " 36: 0.9090909090909091,\n",
       " 37: 0.9121212121212121,\n",
       " 38: 0.9090909090909091,\n",
       " 39: 0.9121212121212121,\n",
       " 40: 0.9121212121212121,\n",
       " 41: 0.9121212121212121,\n",
       " 42: 0.906060606060606,\n",
       " 43: 0.9030303030303031,\n",
       " 44: 0.906060606060606,\n",
       " 45: 0.9030303030303031,\n",
       " 46: 0.9030303030303031,\n",
       " 47: 0.9030303030303031,\n",
       " 48: 0.9,\n",
       " 49: 0.9030303030303031,\n",
       " 50: 0.906060606060606,\n",
       " 51: 0.9,\n",
       " 52: 0.9,\n",
       " 53: 0.896969696969697,\n",
       " 54: 0.896969696969697,\n",
       " 55: 0.896969696969697,\n",
       " 56: 0.8939393939393939,\n",
       " 57: 0.8939393939393939,\n",
       " 58: 0.8909090909090909,\n",
       " 59: 0.8909090909090909,\n",
       " 60: 0.8909090909090909,\n",
       " 61: 0.8909090909090909,\n",
       " 62: 0.8909090909090909,\n",
       " 63: 0.8909090909090909,\n",
       " 64: 0.8909090909090909,\n",
       " 65: 0.8878787878787879,\n",
       " 66: 0.8878787878787879,\n",
       " 67: 0.8878787878787879,\n",
       " 68: 0.8878787878787879,\n",
       " 69: 0.8909090909090909,\n",
       " 70: 0.8878787878787879,\n",
       " 71: 0.8878787878787879,\n",
       " 72: 0.8878787878787879,\n",
       " 73: 0.8909090909090909,\n",
       " 74: 0.8878787878787879,\n",
       " 75: 0.8909090909090909,\n",
       " 76: 0.8909090909090909,\n",
       " 77: 0.8939393939393939,\n",
       " 78: 0.896969696969697,\n",
       " 79: 0.8939393939393939,\n",
       " 80: 0.8909090909090909,\n",
       " 81: 0.8909090909090909,\n",
       " 82: 0.8909090909090909,\n",
       " 83: 0.896969696969697,\n",
       " 84: 0.8939393939393939,\n",
       " 85: 0.8878787878787879,\n",
       " 86: 0.8878787878787879,\n",
       " 87: 0.8878787878787879,\n",
       " 88: 0.8818181818181818,\n",
       " 89: 0.8848484848484849,\n",
       " 90: 0.8787878787878788,\n",
       " 91: 0.8787878787878788,\n",
       " 92: 0.8787878787878788,\n",
       " 93: 0.8848484848484849,\n",
       " 94: 0.8818181818181818,\n",
       " 95: 0.8818181818181818,\n",
       " 96: 0.8818181818181818,\n",
       " 97: 0.8848484848484849,\n",
       " 98: 0.8848484848484849,\n",
       " 99: 0.8848484848484849}"
      ]
     },
     "execution_count": 21,
     "metadata": {},
     "output_type": "execute_result"
    }
   ],
   "source": [
    "accuracy_dict"
   ]
  },
  {
   "cell_type": "code",
   "execution_count": 18,
   "metadata": {},
   "outputs": [
    {
     "data": {
      "image/png": "[encoded data removed]",
      "text/plain": [
       "<Figure size 432x288 with 1 Axes>"
      ]
     },
     "metadata": {
      "needs_background": "light"
     },
     "output_type": "display_data"
    }
   ],
   "source": [
    "import matplotlib.pyplot as plt\n",
    "\n",
    "# Data dictionary\n",
    "data = accuracy_dict\n",
    "\n",
    "# Extract keys and values\n",
    "x_values = list(data.keys())\n",
    "y_values = list(data.values())\n",
    "\n",
    "# Plotting the graph\n",
    "plt.plot(x_values, y_values, marker='o', linestyle='-')\n",
    "\n",
    "# Adding labels and title\n",
    "plt.xlabel('X-axis')\n",
    "plt.ylabel('Y-axis')\n",
    "plt.title('Graph of Dictionary Values')\n",
    "\n",
    "# Display the plot\n",
    "plt.show()"
   ]
  },
  {
   "cell_type": "code",
   "execution_count": null,
   "metadata": {},
   "outputs": [],
   "source": []
  }
 ],
 "metadata": {
  "kernelspec": {
   "display_name": "Python 3",
   "language": "python",
   "name": "python3"
  },
  "language_info": {
   "codemirror_mode": {
    "name": "ipython",
    "version": 3
   },
   "file_extension": ".py",
   "mimetype": "text/x-python",
   "name": "python",
   "nbconvert_exporter": "python",
   "pygments_lexer": "ipython3",
   "version": "3.7.4"
  }
 },
 "nbformat": 4,
 "nbformat_minor": 5
}
