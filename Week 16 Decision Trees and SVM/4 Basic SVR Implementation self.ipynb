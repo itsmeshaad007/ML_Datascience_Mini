{
 "cells": [
  {
   "cell_type": "markdown",
   "metadata": {
    "id": "Axw2b2T_qIqr"
   },
   "source": [
    "## Support Vector Regressor Implementation"
   ]
  },
  {
   "cell_type": "code",
   "execution_count": 8,
   "metadata": {
    "executionInfo": {
     "elapsed": 5,
     "status": "ok",
     "timestamp": 1693385869774,
     "user": {
      "displayName": "Vipil Khapre",
      "userId": "11657927420291305997"
     },
     "user_tz": -330
    },
    "id": "OtNC7x5AqIqt"
   },
   "outputs": [],
   "source": [
    "import pandas as pd\n",
    "import numpy as np\n",
    "import seaborn as sns\n",
    "import matplotlib.pyplot as plt\n",
    "import seaborn as sns"
   ]
  },
  {
   "cell_type": "code",
   "execution_count": 9,
   "metadata": {
    "executionInfo": {
     "elapsed": 1841,
     "status": "ok",
     "timestamp": 1693385873397,
     "user": {
      "displayName": "Vipil Khapre",
      "userId": "11657927420291305997"
     },
     "user_tz": -330
    },
    "id": "OHmYNrngqIqw"
   },
   "outputs": [],
   "source": [
    "## Lets create synthetic data points\n",
    "from sklearn.datasets import make_regression"
   ]
  },
  {
   "cell_type": "code",
   "execution_count": 10,
   "metadata": {
    "executionInfo": {
     "elapsed": 11,
     "status": "ok",
     "timestamp": 1693385873398,
     "user": {
      "displayName": "Vipil Khapre",
      "userId": "11657927420291305997"
     },
     "user_tz": -330
    },
    "id": "zl7NMDd8qIqx"
   },
   "outputs": [],
   "source": [
    "X,y=make_regression(n_samples=1000,n_features=2,n_targets=1,noise=3.0)"
   ]
  },
  {
   "cell_type": "code",
   "execution_count": 11,
   "metadata": {
    "colab": {
     "base_uri": "https://localhost:8080/"
    },
    "executionInfo": {
     "elapsed": 8,
     "status": "ok",
     "timestamp": 1693385878650,
     "user": {
      "displayName": "Vipil Khapre",
      "userId": "11657927420291305997"
     },
     "user_tz": -330
    },
    "id": "_76mOhJZqIqx",
    "outputId": "7a9be647-fb83-4cdc-b611-330be4db0b85"
   },
   "outputs": [
    {
     "data": {
      "text/plain": [
       "array([[ 2.29660012,  1.26881552],\n",
       "       [-0.29766358,  0.03947504],\n",
       "       [-1.36749808,  0.78892311],\n",
       "       ...,\n",
       "       [-0.62723485,  0.24882497],\n",
       "       [-0.57831656,  0.63018773],\n",
       "       [-1.5475387 ,  1.2096298 ]])"
      ]
     },
     "execution_count": 11,
     "metadata": {},
     "output_type": "execute_result"
    }
   ],
   "source": [
    "X"
   ]
  },
  {
   "cell_type": "code",
   "execution_count": 12,
   "metadata": {
    "colab": {
     "base_uri": "https://localhost:8080/"
    },
    "executionInfo": {
     "elapsed": 9,
     "status": "ok",
     "timestamp": 1693385881569,
     "user": {
      "displayName": "Vipil Khapre",
      "userId": "11657927420291305997"
     },
     "user_tz": -330
    },
    "id": "JhvzUeMFqIqz",
    "outputId": "eb84e249-aede-46a0-d9de-411749004e2b"
   },
   "outputs": [
    {
     "data": {
      "text/plain": [
       "array([ 7.41172097e+01, -5.51920115e+00, -2.20886004e+01, -5.16464050e+00,\n",
       "        1.78199419e+01,  5.91227162e+01,  5.97470776e+00, -3.10774904e+01,\n",
       "        3.69670533e+01,  4.81280563e+00, -7.70802049e-02, -3.78418453e+01,\n",
       "        4.30992193e+00, -7.38366116e+01,  4.05202229e+01, -1.87374497e+01,\n",
       "        1.09783649e+01, -5.16329675e+01, -1.50383168e+01,  6.04199482e+00,\n",
       "        1.25222313e+01,  6.79647900e+00,  7.36172059e+00,  2.39010819e+01,\n",
       "       -2.61039572e+01,  4.67826720e-01, -1.04221186e+00, -1.08854453e+01,\n",
       "        2.70647487e+01, -3.11739969e+01, -2.68061453e+01, -1.00391735e+01,\n",
       "        5.11183673e+01, -2.02241027e+01, -2.75316168e+01, -2.86094776e+01,\n",
       "       -5.96030291e+00, -4.63694094e+01, -3.77215053e+01, -2.86854751e+00,\n",
       "       -5.40922538e+00, -2.20863145e+01, -1.77961188e+01,  1.15644999e+01,\n",
       "        4.80636010e+01,  3.49446400e+01, -1.09977848e-01, -3.94268869e+01,\n",
       "        1.67755178e+01, -7.25388720e+00, -7.76112108e-01,  3.54514813e+01,\n",
       "       -2.15181867e+00, -1.74581628e+01, -1.17364901e+01, -3.89053449e+01,\n",
       "       -7.05115516e+00,  3.09868905e+01, -6.72129836e+00, -2.04742674e+01,\n",
       "        3.55660215e+01,  1.22660663e+01,  1.22061931e+01,  3.69105319e+00,\n",
       "       -1.85406166e+01, -1.52293431e+01,  4.82207651e+01, -2.41132030e+01,\n",
       "       -3.49160128e+01,  1.27821732e+00, -1.99077296e+01, -5.01490161e+01,\n",
       "        1.49199378e+00, -3.63459440e+01,  1.39963920e+01, -3.39800034e+01,\n",
       "       -4.33644261e+01,  8.35829391e+00,  5.16060435e+00, -1.86158592e+00,\n",
       "       -9.87917533e+00,  5.04040585e+01,  2.03629561e+01, -2.53749233e+01,\n",
       "        1.40057434e+01,  4.13601056e+00, -1.39484384e+01,  1.85753616e+01,\n",
       "       -1.42935920e+01,  4.27902822e+01,  2.38242891e+01, -3.11788675e+01,\n",
       "        2.73627178e+01, -4.86556222e+01, -2.57374343e+01, -7.41162673e+00,\n",
       "        2.21575164e+01, -1.25042095e+01,  1.02127371e+00, -1.45915824e+01,\n",
       "        2.08844179e+01,  1.74703453e-01, -8.38457541e+00,  5.77950573e+00,\n",
       "        4.66754036e+01, -1.84368226e+01,  1.52198150e+01,  2.97160363e+01,\n",
       "        7.77129058e+00, -2.65711109e+01, -3.66307296e+01,  1.01641823e+00,\n",
       "       -4.31852911e+00,  4.93730242e+01,  1.36075744e+01, -1.36308836e+01,\n",
       "       -3.02332707e+00,  4.70563257e+00,  3.11655319e+01,  1.96266964e+01,\n",
       "        2.74872819e+01,  6.56334819e+00, -5.74840264e+00,  2.08909046e+01,\n",
       "       -8.80533876e+00, -1.61485306e+01, -3.88521104e-01,  6.22802421e+01,\n",
       "        2.99535411e+01,  1.44908581e+01, -2.78165436e+00, -5.35411974e+00,\n",
       "       -3.66979073e+00, -1.61944800e+01,  3.02320383e+00, -6.47238449e+00,\n",
       "       -1.23970126e+01, -1.08495099e+01, -1.49708007e+00, -4.27747254e+01,\n",
       "       -4.82831348e+01,  1.55059181e+01,  1.10683073e+01, -2.20463250e+01,\n",
       "       -5.38177315e+00, -1.39582506e+01,  1.87870440e+01, -1.74471027e+01,\n",
       "       -2.41963824e+01, -6.25696355e+00, -2.52450573e+00, -1.71972511e+01,\n",
       "        4.93266707e+01,  5.62826755e+01,  5.78608581e+01, -1.29187316e+01,\n",
       "       -3.18071283e+00, -3.12078675e+01,  8.98120932e+00,  3.18632024e+01,\n",
       "       -4.92857078e+01,  2.40059933e+01,  4.20778270e+01, -7.13038496e+01,\n",
       "        2.75749230e+01,  4.31606350e+01, -2.14589195e+01,  8.99374026e+00,\n",
       "       -1.26760238e+01,  4.75278107e+01, -3.17334136e+01, -1.28513162e+01,\n",
       "       -4.22700704e+01,  2.68452671e+01, -2.10431733e+01,  1.39684382e+01,\n",
       "        5.96999202e+01, -6.87654841e+00, -8.68340629e+00, -7.59146194e+00,\n",
       "        2.10774055e+01, -2.26349165e+01, -1.02166661e+00,  2.65443506e+01,\n",
       "       -2.53010947e+01, -9.18002421e+00, -4.12345054e+01,  1.06360863e+01,\n",
       "       -3.11813644e+01, -1.63325571e+01, -1.17354999e+01, -1.97443491e+01,\n",
       "        3.09290672e+01,  9.29361948e+00,  4.92293168e-01, -3.43037026e+01,\n",
       "        7.81921614e+00,  2.31105772e+01, -1.12044119e+00,  5.92431151e+01,\n",
       "       -4.68761244e+01, -2.20858278e+01, -2.41311500e+01, -2.56612099e+01,\n",
       "       -3.65704399e+00, -4.11266986e+01,  2.14722915e+01,  2.20977891e+01,\n",
       "       -4.37041860e+01,  2.99199703e+01, -5.15756228e+00,  1.18842765e+01,\n",
       "       -1.43600679e+01, -5.33224803e+01, -7.42923404e+01, -9.96372404e+00,\n",
       "        3.04579508e+01, -1.09767777e+01,  5.21207512e+01,  2.88919350e+01,\n",
       "        6.16453319e+00,  2.05594286e+01,  2.68951545e+01,  3.23821560e+01,\n",
       "       -2.13103791e+01, -2.66447223e+01, -8.51013940e+00, -5.35441404e+01,\n",
       "       -2.22042198e+01, -4.54327461e+00,  1.31338885e+01,  7.34337693e+00,\n",
       "        1.20492178e+01, -3.22872796e+01, -3.63068735e+01,  7.65812399e+00,\n",
       "       -2.01008309e+01, -6.99068744e+01, -3.18791596e+01,  3.72349098e+01,\n",
       "       -1.52479125e+01,  4.23449393e+01,  3.76627516e+01,  7.61048909e+01,\n",
       "       -2.97019508e+01, -2.81648162e+01, -2.69496431e+01,  3.74766575e+01,\n",
       "        4.63421531e+01,  5.81364632e+00,  1.42163333e+01, -2.94674558e+01,\n",
       "       -1.14628266e+01, -2.13893362e+01, -3.12753904e+01,  5.49005468e+01,\n",
       "        1.79059425e+01, -1.02364439e+01, -3.68033882e+00,  2.20337591e+01,\n",
       "       -8.02380662e+00, -4.63382734e+01, -9.44460510e+00, -8.74426209e+00,\n",
       "       -1.10024734e+00,  4.26928724e+01, -9.14570545e+00,  3.29172278e+01,\n",
       "       -1.44830618e+00,  4.08953860e+01, -8.95983744e+00,  1.41667773e+01,\n",
       "        3.30818504e+00,  5.83738950e+01,  3.74118338e+01, -4.94243624e+01,\n",
       "        4.30831216e+01, -2.82243713e+01, -5.66758539e+01,  5.16926110e+00,\n",
       "        8.23206799e+00,  1.68288587e+01, -1.37627566e+01,  1.77084560e+01,\n",
       "        4.58546880e+01,  1.68650532e+01,  4.80155890e+00,  1.83009677e+01,\n",
       "       -1.97703401e+01, -3.28379720e+01,  4.16331978e+00, -1.61099918e+01,\n",
       "        4.71156699e+01,  8.04597029e+00,  3.56290239e+01, -2.55486495e+01,\n",
       "       -4.05331167e+01, -2.24598387e+01,  3.98089494e-01,  3.80439422e+01,\n",
       "       -1.00510700e+01,  5.76945059e+01, -2.62195603e+00,  7.67004572e+00,\n",
       "        9.30869972e+00,  4.54490863e+01,  1.62693840e+00,  1.41418158e+00,\n",
       "        1.68058712e+00, -1.12494447e+01, -2.58814712e+01, -2.73939223e+01,\n",
       "        4.57187362e+00,  1.50223568e+01, -2.24399673e+01,  1.64129433e+01,\n",
       "       -3.79751004e+00, -3.92534896e+01, -6.64106638e+00,  2.47702552e+01,\n",
       "       -1.35775146e+01,  3.46364652e+01,  3.39524881e+01,  7.49021116e+00,\n",
       "        5.35868726e+01, -1.95321683e+01, -2.70370579e+00, -4.57093925e+01,\n",
       "        1.89435927e+01,  2.96449283e+01,  2.16041945e+01, -1.83249115e+01,\n",
       "       -1.80269018e+01, -6.62069566e+00,  2.08193259e+01,  5.42742094e+00,\n",
       "       -2.64606907e+01, -1.76190200e+01, -1.91082310e+01, -3.01737608e+01,\n",
       "       -3.79641696e+01,  2.50374176e+01,  1.84732499e+00,  6.31448803e+01,\n",
       "        5.08682478e+01,  3.05932719e+01,  4.25759560e+01,  6.44120652e+01,\n",
       "       -1.18632529e+01, -4.78698817e+01, -7.40894809e+01, -1.79302942e+01,\n",
       "        2.74493249e+01, -4.41013681e+01, -5.33649455e+01, -4.59655997e+00,\n",
       "        3.54229659e+00,  2.03380030e+01,  7.62562594e+00, -6.99741919e+00,\n",
       "        3.52294487e+01, -8.48418168e+00, -1.10456518e+01,  4.38524688e+01,\n",
       "        2.85943726e+01,  2.24782523e+01,  2.75756721e+00, -4.98819342e+00,\n",
       "       -1.37403089e+01,  2.06314281e+01, -1.57748503e+01, -5.16483950e+01,\n",
       "       -3.24850249e+01, -5.34486351e+01,  4.10360815e+01,  1.15429683e+01,\n",
       "       -1.73682139e+01, -2.88632241e+01, -8.61521534e+01, -4.71999719e+00,\n",
       "        3.47484555e+00,  4.84495234e+00,  2.68110045e+01, -1.89555023e+01,\n",
       "       -8.05727714e+00, -3.78843871e+01, -8.09991588e+01, -3.48600857e+01,\n",
       "       -3.60161845e+01,  4.72480593e+01,  8.07660341e+00,  4.99021070e+00,\n",
       "       -1.89623555e+01, -1.19027238e+01, -2.94180664e+00,  1.77284276e+01,\n",
       "        1.89141991e+00,  1.16193097e+01, -1.04631264e+01,  5.24910020e+00,\n",
       "        3.55228942e+01,  3.38369788e+01, -3.74708695e+01,  3.07407105e+01,\n",
       "        3.09728408e+01,  3.02286025e+01,  1.26448109e+01, -1.40226915e+00,\n",
       "        3.01637367e+01,  1.32527308e+01,  4.42272260e+01, -2.42249480e+01,\n",
       "        4.37883298e+00,  2.14343912e+01, -9.66463362e+00, -5.89926083e+00,\n",
       "        1.93050525e+01, -1.16042465e+01, -3.00990356e+01,  1.78928715e+01,\n",
       "        3.17814288e+01, -5.53843047e+00,  1.24627744e+01, -1.28021928e+01,\n",
       "        2.81941883e+01,  2.42244691e+00, -1.42486924e+01, -6.07867474e+00,\n",
       "        9.54747420e+00,  1.79030731e+01,  2.17214043e+01, -3.34504663e+01,\n",
       "        4.64593214e+01, -5.39785822e+01, -1.00197004e+01, -2.33149706e+01,\n",
       "       -5.51465913e+00,  1.99996340e+01,  2.21089214e+01,  8.81379909e+00,\n",
       "        5.50531578e+01,  2.37686489e+01, -3.42753241e+01,  4.64464934e+00,\n",
       "       -1.83860501e+01,  4.44117502e+01, -1.33580174e+01,  8.55291557e+01,\n",
       "        4.74868608e+01,  3.81509460e+00, -5.19193305e+00, -2.39013012e+01,\n",
       "        2.85683966e+00, -6.30232314e+00, -2.03089274e+01, -1.38149125e+00,\n",
       "        1.32435358e+01, -3.75031464e+01, -1.31611518e+01, -3.51848027e+01,\n",
       "        1.08723714e+01,  1.67100268e+01,  2.11268400e+01, -4.21395577e+01,\n",
       "        1.66371839e+00,  5.27379763e+01,  2.15251049e+01, -9.40597690e+00,\n",
       "        1.60241007e+01, -3.23533321e+01, -1.19825696e+01, -2.81038527e+01,\n",
       "       -2.83766018e+01,  5.64661153e+00, -3.53402934e+01,  1.75861239e+01,\n",
       "        2.41642224e+00, -3.28341351e+00,  1.32790053e+01,  1.48677069e+00,\n",
       "        6.21507198e+01,  5.13692491e+01,  2.66881818e+01,  1.44783593e+01,\n",
       "        2.15657561e+01,  3.42099801e+01,  4.73552660e+00, -2.33605804e+00,\n",
       "       -2.43449110e+00,  7.60355994e+01, -2.03585508e+01,  1.35344634e+01,\n",
       "       -2.18689025e+01,  1.52639725e+01, -2.40722353e+01,  3.00293938e+00,\n",
       "       -1.66884918e+01, -9.06683101e+00, -3.97542042e+01,  8.37708799e+00,\n",
       "        1.09593043e+01,  2.02793614e+01, -3.82250345e+01,  5.10117843e+01,\n",
       "        1.50042312e+01,  1.66509965e+01, -4.46932690e+01, -3.77883269e+01,\n",
       "        2.10252141e+01, -5.52916717e+00,  2.56204500e+01, -1.74546861e+01,\n",
       "       -3.13239993e+01, -2.76961518e+01,  3.66835812e+01,  1.06608107e+00,\n",
       "        3.60989289e+01, -3.28144457e+01,  2.57930866e+00, -1.40676549e+01,\n",
       "       -3.96367349e+01,  3.04400286e+01,  3.94782592e+00, -9.88531887e+00,\n",
       "       -1.04019454e+01, -2.84191621e+01,  2.96552114e+01, -2.83331080e+01,\n",
       "       -5.73456562e+00, -3.73705708e+01,  2.31905805e+01, -1.87297387e+00,\n",
       "       -2.35465139e+01, -4.17138087e+01,  8.21122611e+00,  3.07187598e+00,\n",
       "       -2.00835835e+01, -6.38146288e-01, -1.48424141e+01, -3.97865967e+01,\n",
       "       -1.88822499e+01, -9.51917020e+00, -1.22388147e+01,  3.21902186e+00,\n",
       "        1.88119892e+00,  1.60068211e+01,  2.56379742e+00,  1.06231124e+01,\n",
       "       -2.76687172e+01, -7.18473530e+00, -8.39867526e+00, -3.24562263e+01,\n",
       "        1.37013655e+01,  3.43445589e+01,  7.11052475e+00, -3.59697422e+00,\n",
       "       -4.27415191e+01, -1.77401297e+01, -5.82763500e+00,  1.70006064e+01,\n",
       "       -1.15872307e+01,  3.00871578e+01, -6.63179651e+00, -9.73602546e+00,\n",
       "       -3.03014579e+00, -1.95060547e+00,  1.65212014e+01,  7.34343857e+00,\n",
       "        8.26020762e+00, -2.73893351e+01,  1.35615414e-02,  4.90361934e+01,\n",
       "        9.59681587e+00, -1.21931971e+01,  1.82581323e+01,  1.92385963e+01,\n",
       "       -2.43680991e+01,  1.05921148e+01,  7.15563170e+01, -5.99747036e+01,\n",
       "       -8.69993017e+00,  1.25498134e+01, -1.41193179e+01,  4.71677900e+01,\n",
       "       -1.47997375e+01, -2.93095468e+01, -1.62587657e+01,  7.39720729e+00,\n",
       "       -6.01049575e+00, -3.70375195e+01,  3.45580521e-01,  2.52918821e+00,\n",
       "        8.97980226e+00, -1.54563999e+01, -2.91921630e+01, -1.01223514e+01,\n",
       "        8.04742745e+00, -1.96143104e+01,  2.38509187e+00, -4.65244910e+00,\n",
       "       -1.83577528e+01,  5.93408802e+01,  3.42017195e+01,  1.04157830e+01,\n",
       "        4.34848365e+00,  5.96734660e+00, -5.98740146e+01, -1.89742806e+01,\n",
       "       -1.00517064e-01,  2.26858924e+01, -3.45549898e+01, -3.46522928e+01,\n",
       "       -8.26045258e+00,  1.40760263e+01,  1.29355401e+01,  2.20075853e+01,\n",
       "       -1.28681451e+01, -1.73948380e+01, -3.27061672e+01, -1.70440917e+01,\n",
       "       -2.41138204e+01,  5.78011495e+01, -2.61045040e+01,  7.50690562e-01,\n",
       "       -1.32566661e+01, -5.29495108e+01,  9.50795997e-01, -1.26270707e+01,\n",
       "        1.88279965e+01, -4.54330026e+01, -1.54143178e+01,  1.73770253e+01,\n",
       "       -2.06235130e+01,  2.88541411e+01, -7.56967224e+00, -4.73045534e+01,\n",
       "       -1.62241923e+01,  7.11049696e-01, -2.45558670e+01,  4.29837096e+01,\n",
       "       -7.05394049e+01,  2.09411861e+01, -5.89074254e+01, -2.33823723e+00,\n",
       "       -1.60529872e+01, -2.87226118e+01,  2.81678906e+01,  2.24128313e+01,\n",
       "       -1.22033008e+00, -1.13772457e+01,  7.74182193e+00, -2.07153357e+01,\n",
       "        1.90473792e+01,  2.21794544e+01,  2.64240815e+01,  1.12249276e+01,\n",
       "       -1.50734215e+01, -3.43743502e+00,  2.97759757e+01, -1.42806436e+00,\n",
       "       -6.17001596e+00,  1.20481530e+01, -2.27264540e+00, -4.29249101e+01,\n",
       "       -2.97688097e+01,  8.54088154e+00, -4.50261861e+01, -6.13777497e+01,\n",
       "        2.85580195e+00, -5.02072454e+00,  1.42409395e+01,  4.41172566e+00,\n",
       "        2.49817293e+01, -4.90446684e+01,  3.41378637e+01,  2.12965364e+01,\n",
       "       -2.30198226e+01, -3.27230715e+01,  3.28210347e+01,  2.83013736e+01,\n",
       "       -2.02517203e+01, -1.66002234e+01, -3.70130791e+01, -2.43680621e+01,\n",
       "        3.36243249e+01,  8.28942349e+00, -1.11901839e+00,  2.92543248e+01,\n",
       "       -1.44216741e+01, -2.39636556e+01,  1.61620962e+00,  1.56837481e+00,\n",
       "       -1.15530693e+01, -1.32520330e+01, -3.98778615e+01,  3.66052620e+01,\n",
       "        3.44606261e+01,  1.51298041e+01,  2.34233991e+01,  8.81599772e+00,\n",
       "        3.26640547e+01, -5.34186278e+01, -5.40117242e+01, -2.05198158e+01,\n",
       "        4.60744607e+01,  1.50609547e+01,  5.59845098e+00,  2.98412967e+01,\n",
       "        2.88940286e+00, -6.91302966e+01, -1.04813573e+01,  3.20253288e+00,\n",
       "       -1.78305495e+00,  2.75221821e+01, -3.56147249e+01, -2.17629838e+01,\n",
       "       -9.56069271e-01,  9.60033623e+00,  1.47970939e+01,  3.79896379e+01,\n",
       "        2.47868218e+01,  7.87651598e+00,  2.77919114e+01,  4.36976163e+01,\n",
       "        2.96225647e+01, -5.67967323e+00, -3.00040256e+01, -5.67484799e+00,\n",
       "       -2.58995256e+01, -7.32645246e+00, -5.72360710e+00,  1.00234991e+01,\n",
       "        1.04840960e+01,  4.63458962e+00,  2.32711091e+01,  2.18996152e+01,\n",
       "        1.25593222e+01, -2.75894135e+00,  3.51403187e+01,  4.37867912e+01,\n",
       "       -2.73254119e+01,  1.12964854e+01, -1.73210972e+01, -1.65802763e+00,\n",
       "       -1.11411103e+01,  2.05984338e+01,  2.42914888e+01,  1.71195615e+01,\n",
       "       -1.69725023e+01, -2.85957860e+01,  5.89567472e+01,  5.26686424e+00,\n",
       "       -2.36341028e+01,  4.25349358e+00,  1.41910603e+01, -1.58310613e+01,\n",
       "        2.53224305e+00,  1.67503056e+01,  1.52367392e+01,  1.26743473e+01,\n",
       "        1.20224453e+01, -1.74991465e+01, -8.76614246e+01,  3.49100989e+01,\n",
       "        9.21719234e+00, -1.75032740e+01, -1.12395003e+01, -1.91366570e+01,\n",
       "        1.93306009e+01,  1.17931745e+00,  3.70212735e+00,  4.88349979e+01,\n",
       "        5.47285596e+01, -1.99566027e+01,  2.59278635e+01, -5.02507617e+01,\n",
       "        5.30183286e+01,  1.23092185e+01, -4.60983236e+01, -2.10348500e+01,\n",
       "       -1.55844291e+01,  2.71243306e+01, -1.20171166e+01,  6.32662651e+00,\n",
       "       -1.01550436e+01,  7.01197318e-01,  5.04771454e+01,  2.35108705e+01,\n",
       "       -9.03330447e+00,  8.49318732e+01,  5.53077274e+01, -4.56634890e+00,\n",
       "        1.80797295e+01,  1.00857787e+01,  2.58653762e+01,  1.67439912e+01,\n",
       "       -1.59551787e+01,  7.27828111e+00,  7.08003443e+00,  2.27752294e+01,\n",
       "       -4.98581715e+00, -1.85147023e+01, -1.80309405e+01,  2.80127654e+01,\n",
       "        2.09417721e+00,  7.59759130e+01, -4.20197303e+01, -1.77437095e+01,\n",
       "       -4.74756191e+00, -2.45975026e+00, -1.88922969e+01, -1.59352381e+01,\n",
       "       -1.53396560e+01,  1.40641651e+01,  6.21446315e+00, -2.60589732e+01,\n",
       "        1.27075512e+01,  2.14319377e+01, -1.83293342e+01, -7.36341709e+00,\n",
       "       -1.73416743e+01, -1.11315119e+01,  5.26939646e+00,  5.47694114e+01,\n",
       "        1.60323913e+01,  4.81084521e+00,  1.21379420e+01,  4.83550736e+01,\n",
       "       -2.01872897e+00, -1.65781762e+01,  2.48597454e+01, -3.28738323e+00,\n",
       "       -2.87384952e+01, -2.91996723e+01,  5.50777940e+01,  4.20572389e+01,\n",
       "       -1.14854690e+01, -2.10559167e+01, -2.43488574e+01,  2.89511337e+01,\n",
       "        3.49429858e+01,  1.65468318e+01, -1.61010376e-01, -3.69243175e+01,\n",
       "       -5.58129141e+01,  1.88539779e+01, -2.48508582e+01, -3.53926961e+01,\n",
       "        3.08876387e+00,  4.38984253e+01,  1.86414978e+01, -2.70431901e+00,\n",
       "       -1.16341232e+01, -2.97204199e+01,  1.39171824e+01,  4.16075221e+01,\n",
       "        4.26468981e+01, -2.46736106e+01,  4.05935760e+01,  2.55583246e+01,\n",
       "       -2.58849451e+01, -1.25326837e+01,  4.78592766e+00, -1.21442303e+01,\n",
       "       -5.58572192e+01,  6.16244452e+01, -2.19687012e+01, -3.34800887e+01,\n",
       "        2.00200178e+01, -1.49413518e+01, -1.63997744e+01,  4.01431738e+01,\n",
       "       -3.14865653e+01,  2.15978863e+01, -1.23640598e+01, -9.82871913e+00,\n",
       "       -2.67356961e+01, -2.91007545e-01,  3.68262601e+01, -1.36085575e+01,\n",
       "       -1.07690960e+01, -1.72501316e+01,  1.82954370e+01, -2.37473125e+01,\n",
       "        1.35148678e+00,  5.64392656e+01,  2.42527385e+01, -5.25340076e+00,\n",
       "        1.23762903e+01, -2.24476019e+01,  3.93718849e+01,  2.99832555e+00,\n",
       "       -3.92948081e+01,  4.49100184e+01,  8.60247549e-01,  2.62792760e+01,\n",
       "        7.57079652e+00,  9.16535486e+00,  1.56061987e+01,  2.02985657e+01,\n",
       "        3.36393145e+01, -1.77466900e+01,  6.72807330e+00, -2.68282209e+01,\n",
       "       -2.44084057e+01, -1.13054879e+01, -4.03416916e+01, -1.16994818e+01,\n",
       "        3.57878880e+00, -1.27409303e+01,  7.62979557e+00,  1.60954065e+01,\n",
       "       -7.98328065e+00, -1.41278765e+01, -5.02756960e+01,  1.60496445e+01,\n",
       "       -1.40776324e+01,  3.60425983e+00, -2.22356353e+01, -4.65752626e+01,\n",
       "        1.44855928e+01,  3.12762822e+01, -2.65074653e+01, -5.61561858e+01,\n",
       "        9.05757232e+00,  1.65624381e+01, -2.31798812e+01,  2.72293184e+01,\n",
       "       -2.89149149e+01,  2.68369068e+01, -5.45467020e+01,  1.07965171e+01,\n",
       "       -4.01743539e+01,  1.60573575e+01, -5.45709113e+00, -3.53352030e+01,\n",
       "       -1.13875649e+01,  4.05442062e+01, -4.62192587e+01, -3.07131571e+01,\n",
       "       -1.61202787e+01, -1.85324774e+01,  2.43458245e+01, -3.72630006e+01,\n",
       "        2.83392484e+01, -9.65492998e+00, -2.08086726e+01, -3.81834433e+01,\n",
       "       -3.86552806e+01,  1.74018720e+01,  2.10229064e+01, -8.04055959e+00,\n",
       "       -1.78267713e+01,  1.30125195e+01,  4.67736930e+01,  3.24285450e+01,\n",
       "        3.34900987e+01,  4.32367536e+01, -5.59810598e+01,  2.64737666e+01,\n",
       "        2.30158120e+01, -2.28703460e+01, -2.06115700e+01, -5.04171127e+00,\n",
       "        1.38006183e+01, -2.52069771e+01, -5.73482121e+01, -4.94202380e+00,\n",
       "       -1.12848029e+01,  4.17758991e+01, -2.47382616e+01, -1.76085698e+01,\n",
       "        8.24341115e+00,  4.74232949e+01,  2.53260923e+01, -1.43648299e-01,\n",
       "        3.17899564e+01,  6.96422070e+00, -6.67921782e+00,  5.03470217e+01,\n",
       "       -7.07203651e+00,  4.02397953e+01, -6.31236126e+00,  1.19376682e+01,\n",
       "        1.00245058e+01, -2.66724305e+01, -2.17056365e+01,  1.48065561e+01,\n",
       "        3.20336682e+01, -1.71134365e+01,  6.41544940e+01,  4.17200807e+01,\n",
       "        2.47655160e+01, -4.20319982e+01,  1.57754391e+01, -1.21780949e+01,\n",
       "        1.73352174e+01, -1.18423569e+01, -8.00581372e+00, -1.83048226e+01])"
      ]
     },
     "execution_count": 12,
     "metadata": {},
     "output_type": "execute_result"
    }
   ],
   "source": [
    "y"
   ]
  },
  {
   "cell_type": "code",
   "execution_count": 13,
   "metadata": {
    "colab": {
     "base_uri": "https://localhost:8080/"
    },
    "executionInfo": {
     "elapsed": 29,
     "status": "ok",
     "timestamp": 1693385887237,
     "user": {
      "displayName": "Vipil Khapre",
      "userId": "11657927420291305997"
     },
     "user_tz": -330
    },
    "id": "nnB9u96lqIq0",
    "outputId": "2011ff75-1399-449e-99f6-ea21554a1b48"
   },
   "outputs": [
    {
     "data": {
      "text/plain": [
       "0      2.296600\n",
       "1     -0.297664\n",
       "2     -1.367498\n",
       "3     -0.274386\n",
       "4     -0.096317\n",
       "         ...   \n",
       "995   -0.378522\n",
       "996    0.441638\n",
       "997   -0.627235\n",
       "998   -0.578317\n",
       "999   -1.547539\n",
       "Name: 0, Length: 1000, dtype: float64"
      ]
     },
     "execution_count": 13,
     "metadata": {},
     "output_type": "execute_result"
    }
   ],
   "source": [
    "pd.DataFrame(X)[0]"
   ]
  },
  {
   "cell_type": "code",
   "execution_count": 16,
   "metadata": {
    "colab": {
     "base_uri": "https://localhost:8080/",
     "height": 467
    },
    "executionInfo": {
     "elapsed": 2630,
     "status": "ok",
     "timestamp": 1693385897244,
     "user": {
      "displayName": "Vipil Khapre",
      "userId": "11657927420291305997"
     },
     "user_tz": -330
    },
    "id": "Pe--0H0fqIq1",
    "outputId": "403a2820-92a9-4724-e1a1-645a81f85337"
   },
   "outputs": [
    {
     "data": {
      "text/plain": [
       "<matplotlib.axes._subplots.AxesSubplot at 0x27a57b6dfc8>"
      ]
     },
     "execution_count": 16,
     "metadata": {},
     "output_type": "execute_result"
    },
    {
     "data": {
      "image/png": "[encoded data removed]",
      "text/plain": [
       "<Figure size 432x288 with 1 Axes>"
      ]
     },
     "metadata": {
      "needs_background": "light"
     },
     "output_type": "display_data"
    }
   ],
   "source": [
    "sns.scatterplot(x=pd.DataFrame(X)[0],y=pd.DataFrame(X)[1],hue=y)"
   ]
  },
  {
   "cell_type": "code",
   "execution_count": 17,
   "metadata": {
    "executionInfo": {
     "elapsed": 478,
     "status": "ok",
     "timestamp": 1693385904728,
     "user": {
      "displayName": "Vipil Khapre",
      "userId": "11657927420291305997"
     },
     "user_tz": -330
    },
    "id": "jo_bwQ5_qIq1"
   },
   "outputs": [],
   "source": [
    "from sklearn.model_selection import train_test_split\n",
    "X_train,X_test,y_train,y_test=train_test_split(X,y,test_size=0.25,random_state=10)"
   ]
  },
  {
   "cell_type": "code",
   "execution_count": 18,
   "metadata": {
    "executionInfo": {
     "elapsed": 10,
     "status": "ok",
     "timestamp": 1693385904728,
     "user": {
      "displayName": "Vipil Khapre",
      "userId": "11657927420291305997"
     },
     "user_tz": -330
    },
    "id": "nITYOV9oqIq2"
   },
   "outputs": [],
   "source": [
    "from sklearn.svm import SVR"
   ]
  },
  {
   "cell_type": "code",
   "execution_count": 19,
   "metadata": {
    "executionInfo": {
     "elapsed": 659,
     "status": "ok",
     "timestamp": 1693386091301,
     "user": {
      "displayName": "Vipil Khapre",
      "userId": "11657927420291305997"
     },
     "user_tz": -330
    },
    "id": "1NzHguuFqIq3"
   },
   "outputs": [],
   "source": [
    "svr=SVR(kernel='linear')"
   ]
  },
  {
   "cell_type": "code",
   "execution_count": 20,
   "metadata": {
    "colab": {
     "base_uri": "https://localhost:8080/",
     "height": 75
    },
    "executionInfo": {
     "elapsed": 22,
     "status": "ok",
     "timestamp": 1693386091770,
     "user": {
      "displayName": "Vipil Khapre",
      "userId": "11657927420291305997"
     },
     "user_tz": -330
    },
    "id": "q4yViOLNqIq4",
    "outputId": "d6288821-ce6a-4fb8-b57b-283ac61493eb"
   },
   "outputs": [
    {
     "data": {
      "text/plain": [
       "SVR(kernel='linear')"
      ]
     },
     "execution_count": 20,
     "metadata": {},
     "output_type": "execute_result"
    }
   ],
   "source": [
    "svr.fit(X_train,y_train)"
   ]
  },
  {
   "cell_type": "code",
   "execution_count": 21,
   "metadata": {
    "colab": {
     "base_uri": "https://localhost:8080/"
    },
    "executionInfo": {
     "elapsed": 12,
     "status": "ok",
     "timestamp": 1693386093295,
     "user": {
      "displayName": "Vipil Khapre",
      "userId": "11657927420291305997"
     },
     "user_tz": -330
    },
    "id": "UehOgHVBqIq5",
    "outputId": "04d728c6-0dcb-4073-ee7f-212680271af2"
   },
   "outputs": [
    {
     "data": {
      "text/plain": [
       "array([[24.02460045, 14.34388868]])"
      ]
     },
     "execution_count": 21,
     "metadata": {},
     "output_type": "execute_result"
    }
   ],
   "source": [
    "svr.coef_"
   ]
  },
  {
   "cell_type": "code",
   "execution_count": 22,
   "metadata": {
    "executionInfo": {
     "elapsed": 8,
     "status": "ok",
     "timestamp": 1693386094905,
     "user": {
      "displayName": "Vipil Khapre",
      "userId": "11657927420291305997"
     },
     "user_tz": -330
    },
    "id": "_UnW7YELqIq5"
   },
   "outputs": [],
   "source": [
    "## Prediction\n",
    "y_pred=svr.predict(X_test)"
   ]
  },
  {
   "cell_type": "code",
   "execution_count": 23,
   "metadata": {
    "colab": {
     "base_uri": "https://localhost:8080/"
    },
    "executionInfo": {
     "elapsed": 14,
     "status": "ok",
     "timestamp": 1693386097949,
     "user": {
      "displayName": "Vipil Khapre",
      "userId": "11657927420291305997"
     },
     "user_tz": -330
    },
    "id": "CW0r-IbsqIq5",
    "outputId": "96c32424-c5bf-414a-a365-36f0210f2ed7"
   },
   "outputs": [
    {
     "data": {
      "text/plain": [
       "array([ 18.07088166,  36.89763303,   8.27257796,  23.6360926 ,\n",
       "         9.2595733 ,  35.11315452,   7.76535761,   9.86632271,\n",
       "       -37.05139728,  26.13690575,  -1.20619051,  18.59884337,\n",
       "       -18.38401016,  29.79805742, -23.45296939,  -6.85868104,\n",
       "        17.55906336,   2.05969381,  56.24459339,  45.23293438,\n",
       "       -13.3320501 , -36.3630028 , -44.64848883,  48.280164  ,\n",
       "         0.48556019,  11.35242074,  34.68246276, -26.91831271,\n",
       "       -14.36512705, -20.60905941,   7.18532286, -56.57699079,\n",
       "        30.64266347, -35.3267338 , -32.42323291,  -7.80924437,\n",
       "        25.90646674,  -7.44183749,  29.04891322, -17.084538  ,\n",
       "       -52.19282347,  -1.62270562,  -3.57598229, -11.36248667,\n",
       "        45.1047366 ,  39.20778239,  32.2283212 , -29.09229369,\n",
       "       -39.1529812 ,   9.52824841, -14.825618  , -22.80968297,\n",
       "        43.00082426, -36.5417444 ,  15.75802017,  -8.65123329,\n",
       "        12.36454362,  17.16376588,   8.42582315,   4.14408353,\n",
       "       -17.70636002, -24.10024852,  32.22941076, -37.85777677,\n",
       "       -46.22496361, -10.08734284, -24.99141312, -32.38108876,\n",
       "        76.75673358,  -4.69683829, -36.62766753,   7.81060208,\n",
       "        23.97632889,   6.68010047,  -9.18550982,  47.95188917,\n",
       "        13.87441856,  -0.55894514,  48.36230865,  -4.15314922,\n",
       "        35.98406777,  12.28694583,  -2.2472081 ,  -1.09322594,\n",
       "       -22.23392168, -55.29972925,  -3.63914222,  -1.92472456,\n",
       "        32.85033232,  19.53613574, -38.01824047,  -5.85203116,\n",
       "        37.55022079,  -7.5647161 , -54.25013918, -25.34384207,\n",
       "        -6.60171582, -12.34006434,   7.15215486, -27.77334835,\n",
       "        10.04083976,  17.20700625, -71.81829695,  14.83333295,\n",
       "       -30.33618354,  14.26833836, -29.24464911,   1.93518839,\n",
       "        55.44252339, -10.32584424,  -2.22136618, -16.21238953,\n",
       "       -33.93187094, -21.56991893,  28.5853972 ,   1.29123094,\n",
       "       -45.66854299,  43.13685732,  13.5130173 ,  14.7688763 ,\n",
       "        27.2244824 ,  17.53712335,  -9.31774809,  -7.71975731,\n",
       "       -17.6746823 ,  13.94589623, -37.83442493,  48.85342561,\n",
       "         4.63595831,  15.31331193, -36.25121683, -28.53339191,\n",
       "        13.75074154,  43.16993324,  -9.59290205,  17.232275  ,\n",
       "        -2.17251236, -13.97922484,  24.43625925,  33.34563341,\n",
       "        60.00352075, -51.42217311,   4.74464403,   7.7581479 ,\n",
       "        28.96810398, -38.05685865,  -8.00372134,  45.82438733,\n",
       "        62.78504049,   3.94175136, -23.60387281,   4.88583003,\n",
       "        11.90270308,   5.15470873, -27.27215357, -16.67245965,\n",
       "         7.36352826, -54.28494636,   2.09364702,   7.48419906,\n",
       "       -47.94262912,  16.89368732, -45.82926066,  28.10506879,\n",
       "       -12.34926846, -18.6547916 , -25.40841227, -19.44485488,\n",
       "        27.87188591, -53.74311895,  26.43143892,   2.82736767,\n",
       "        13.24911537, -26.53400486, -16.75590741,   7.04448421,\n",
       "        41.54080711,  58.20117015, -41.16099938, -26.80770306,\n",
       "        56.61005942, -33.15672129,  34.0701463 ,  35.54594339,\n",
       "        18.97636772,  26.95289591,  -9.77147511, -17.49512545,\n",
       "         0.56830442,  -5.17097032,  23.2326035 , -39.42121606,\n",
       "       -81.46716528, -28.14504865, -14.70706308,  35.54969233,\n",
       "        25.10156635,  -9.10343208,  -3.5278873 , -40.08909942,\n",
       "       -31.80513146,   2.81155307, -23.75773999, -10.40998493,\n",
       "         6.62783796, -31.10367728,  -9.95118529,  25.59133586,\n",
       "       -60.89078384,   4.9187763 , -17.34450356,  18.55894447,\n",
       "        14.92619391, -12.71493862,  11.74768582,  18.81393488,\n",
       "        22.32670569, -10.24451198,   6.78483728, -18.23044082,\n",
       "        10.08874975, -34.42887106,  -0.93893513,  15.22242998,\n",
       "       -18.48467836,  -3.54486423, -32.00686094,  -7.90013074,\n",
       "        -6.57718623, -25.73871191,  30.47011153, -14.57419182,\n",
       "       -34.02525601, -48.66757547, -10.23745441,  43.82955969,\n",
       "       -27.30958715,  20.34283954,  12.7070903 ,  -5.52509139,\n",
       "         4.93457752, -13.37341965, -27.98682858,  31.68989978,\n",
       "        31.78146001,  -5.56953729, -11.47202918,  -4.8629511 ,\n",
       "         4.54895065,  23.77255514])"
      ]
     },
     "execution_count": 23,
     "metadata": {},
     "output_type": "execute_result"
    }
   ],
   "source": [
    "y_pred"
   ]
  },
  {
   "cell_type": "code",
   "execution_count": 24,
   "metadata": {
    "executionInfo": {
     "elapsed": 3,
     "status": "ok",
     "timestamp": 1693386099834,
     "user": {
      "displayName": "Vipil Khapre",
      "userId": "11657927420291305997"
     },
     "user_tz": -330
    },
    "id": "_V8L5uhcqIq6"
   },
   "outputs": [],
   "source": [
    "from sklearn.metrics import r2_score"
   ]
  },
  {
   "cell_type": "code",
   "execution_count": 25,
   "metadata": {
    "colab": {
     "base_uri": "https://localhost:8080/"
    },
    "executionInfo": {
     "elapsed": 8,
     "status": "ok",
     "timestamp": 1693386103140,
     "user": {
      "displayName": "Vipil Khapre",
      "userId": "11657927420291305997"
     },
     "user_tz": -330
    },
    "id": "j7244_g_qIq6",
    "outputId": "8129b74e-bc9b-4d09-8567-1239830639d4"
   },
   "outputs": [
    {
     "name": "stdout",
     "output_type": "stream",
     "text": [
      "0.9887695762160112\n"
     ]
    }
   ],
   "source": [
    "print(r2_score(y_test,y_pred))"
   ]
  },
  {
   "cell_type": "markdown",
   "metadata": {
    "id": "PrpM_v3SqIq6"
   },
   "source": [
    "## Hyperparametere Tuning With SVR"
   ]
  },
  {
   "cell_type": "code",
   "execution_count": 26,
   "metadata": {
    "executionInfo": {
     "elapsed": 4,
     "status": "ok",
     "timestamp": 1693386108780,
     "user": {
      "displayName": "Vipil Khapre",
      "userId": "11657927420291305997"
     },
     "user_tz": -330
    },
    "id": "x_e1cKqFqIq7"
   },
   "outputs": [],
   "source": [
    "from sklearn.model_selection import GridSearchCV\n",
    "\n",
    "# defining parameter range\n",
    "param_grid = {'C': [0.1, 1, 10, 100, 1000],\n",
    "              'gamma': [1, 0.1, 0.01, 0.001, 0.0001],\n",
    "              'kernel':['linear'],\n",
    "              'epsilon':[0.1,0.2,0.3]\n",
    "              }"
   ]
  },
  {
   "cell_type": "code",
   "execution_count": 27,
   "metadata": {
    "executionInfo": {
     "elapsed": 5,
     "status": "ok",
     "timestamp": 1693386111007,
     "user": {
      "displayName": "Vipil Khapre",
      "userId": "11657927420291305997"
     },
     "user_tz": -330
    },
    "id": "2Odkk2VvqIq7"
   },
   "outputs": [],
   "source": [
    "grid=GridSearchCV(SVR(),param_grid=param_grid,refit=True,cv=5,verbose=3)"
   ]
  },
  {
   "cell_type": "code",
   "execution_count": 28,
   "metadata": {
    "colab": {
     "base_uri": "https://localhost:8080/",
     "height": 1000
    },
    "executionInfo": {
     "elapsed": 75617,
     "status": "ok",
     "timestamp": 1693386190350,
     "user": {
      "displayName": "Vipil Khapre",
      "userId": "11657927420291305997"
     },
     "user_tz": -330
    },
    "id": "CxYbcyZXqIq8",
    "outputId": "712e2c68-8953-41a0-c8f1-203a2cc64336"
   },
   "outputs": [
    {
     "name": "stdout",
     "output_type": "stream",
     "text": [
      "Fitting 5 folds for each of 75 candidates, totalling 375 fits\n",
      "[CV 1/5] END C=0.1, epsilon=0.1, gamma=1, kernel=linear;, score=0.982 total time=   0.0s\n",
      "[CV 2/5] END C=0.1, epsilon=0.1, gamma=1, kernel=linear;, score=0.980 total time=   0.0s\n",
      "[CV 3/5] END C=0.1, epsilon=0.1, gamma=1, kernel=linear;, score=0.979 total time=   0.0s\n",
      "[CV 4/5] END C=0.1, epsilon=0.1, gamma=1, kernel=linear;, score=0.984 total time=   0.0s\n",
      "[CV 5/5] END C=0.1, epsilon=0.1, gamma=1, kernel=linear;, score=0.982 total time=   0.0s\n",
      "[CV 1/5] END C=0.1, epsilon=0.1, gamma=0.1, kernel=linear;, score=0.982 total time=   0.0s\n",
      "[CV 2/5] END C=0.1, epsilon=0.1, gamma=0.1, kernel=linear;, score=0.980 total time=   0.0s\n",
      "[CV 3/5] END C=0.1, epsilon=0.1, gamma=0.1, kernel=linear;, score=0.979 total time=   0.0s\n",
      "[CV 4/5] END C=0.1, epsilon=0.1, gamma=0.1, kernel=linear;, score=0.984 total time=   0.0s\n",
      "[CV 5/5] END C=0.1, epsilon=0.1, gamma=0.1, kernel=linear;, score=0.982 total time=   0.0s\n",
      "[CV 1/5] END C=0.1, epsilon=0.1, gamma=0.01, kernel=linear;, score=0.982 total time=   0.0s\n",
      "[CV 2/5] END C=0.1, epsilon=0.1, gamma=0.01, kernel=linear;, score=0.980 total time=   0.0s\n",
      "[CV 3/5] END C=0.1, epsilon=0.1, gamma=0.01, kernel=linear;, score=0.979 total time=   0.0s\n",
      "[CV 4/5] END C=0.1, epsilon=0.1, gamma=0.01, kernel=linear;, score=0.984 total time=   0.0s\n",
      "[CV 5/5] END C=0.1, epsilon=0.1, gamma=0.01, kernel=linear;, score=0.982 total time=   0.0s\n",
      "[CV 1/5] END C=0.1, epsilon=0.1, gamma=0.001, kernel=linear;, score=0.982 total time=   0.0s\n",
      "[CV 2/5] END C=0.1, epsilon=0.1, gamma=0.001, kernel=linear;, score=0.980 total time=   0.0s\n",
      "[CV 3/5] END C=0.1, epsilon=0.1, gamma=0.001, kernel=linear;, score=0.979 total time=   0.0s\n",
      "[CV 4/5] END C=0.1, epsilon=0.1, gamma=0.001, kernel=linear;, score=0.984 total time=   0.0s\n",
      "[CV 5/5] END C=0.1, epsilon=0.1, gamma=0.001, kernel=linear;, score=0.982 total time=   0.0s\n",
      "[CV 1/5] END C=0.1, epsilon=0.1, gamma=0.0001, kernel=linear;, score=0.982 total time=   0.0s\n",
      "[CV 2/5] END C=0.1, epsilon=0.1, gamma=0.0001, kernel=linear;, score=0.980 total time=   0.0s\n",
      "[CV 3/5] END C=0.1, epsilon=0.1, gamma=0.0001, kernel=linear;, score=0.979 total time=   0.0s\n",
      "[CV 4/5] END C=0.1, epsilon=0.1, gamma=0.0001, kernel=linear;, score=0.984 total time=   0.0s\n",
      "[CV 5/5] END C=0.1, epsilon=0.1, gamma=0.0001, kernel=linear;, score=0.982 total time=   0.0s\n",
      "[CV 1/5] END C=0.1, epsilon=0.2, gamma=1, kernel=linear;, score=0.982 total time=   0.0s\n",
      "[CV 2/5] END C=0.1, epsilon=0.2, gamma=1, kernel=linear;, score=0.980 total time=   0.0s\n",
      "[CV 3/5] END C=0.1, epsilon=0.2, gamma=1, kernel=linear;, score=0.979 total time=   0.0s\n",
      "[CV 4/5] END C=0.1, epsilon=0.2, gamma=1, kernel=linear;, score=0.984 total time=   0.0s\n",
      "[CV 5/5] END C=0.1, epsilon=0.2, gamma=1, kernel=linear;, score=0.982 total time=   0.0s\n",
      "[CV 1/5] END C=0.1, epsilon=0.2, gamma=0.1, kernel=linear;, score=0.982 total time=   0.0s\n",
      "[CV 2/5] END C=0.1, epsilon=0.2, gamma=0.1, kernel=linear;, score=0.980 total time=   0.0s\n",
      "[CV 3/5] END C=0.1, epsilon=0.2, gamma=0.1, kernel=linear;, score=0.979 total time=   0.0s\n",
      "[CV 4/5] END C=0.1, epsilon=0.2, gamma=0.1, kernel=linear;, score=0.984 total time=   0.0s\n",
      "[CV 5/5] END C=0.1, epsilon=0.2, gamma=0.1, kernel=linear;, score=0.982 total time=   0.0s\n",
      "[CV 1/5] END C=0.1, epsilon=0.2, gamma=0.01, kernel=linear;, score=0.982 total time=   0.0s\n",
      "[CV 2/5] END C=0.1, epsilon=0.2, gamma=0.01, kernel=linear;, score=0.980 total time=   0.0s\n",
      "[CV 3/5] END C=0.1, epsilon=0.2, gamma=0.01, kernel=linear;, score=0.979 total time=   0.0s\n",
      "[CV 4/5] END C=0.1, epsilon=0.2, gamma=0.01, kernel=linear;, score=0.984 total time=   0.0s\n",
      "[CV 5/5] END C=0.1, epsilon=0.2, gamma=0.01, kernel=linear;, score=0.982 total time=   0.0s\n",
      "[CV 1/5] END C=0.1, epsilon=0.2, gamma=0.001, kernel=linear;, score=0.982 total time=   0.0s\n",
      "[CV 2/5] END C=0.1, epsilon=0.2, gamma=0.001, kernel=linear;, score=0.980 total time=   0.0s\n",
      "[CV 3/5] END C=0.1, epsilon=0.2, gamma=0.001, kernel=linear;, score=0.979 total time=   0.0s\n",
      "[CV 4/5] END C=0.1, epsilon=0.2, gamma=0.001, kernel=linear;, score=0.984 total time=   0.0s\n",
      "[CV 5/5] END C=0.1, epsilon=0.2, gamma=0.001, kernel=linear;, score=0.982 total time=   0.0s\n",
      "[CV 1/5] END C=0.1, epsilon=0.2, gamma=0.0001, kernel=linear;, score=0.982 total time=   0.0s\n",
      "[CV 2/5] END C=0.1, epsilon=0.2, gamma=0.0001, kernel=linear;, score=0.980 total time=   0.0s\n",
      "[CV 3/5] END C=0.1, epsilon=0.2, gamma=0.0001, kernel=linear;, score=0.979 total time=   0.0s\n",
      "[CV 4/5] END C=0.1, epsilon=0.2, gamma=0.0001, kernel=linear;, score=0.984 total time=   0.0s\n",
      "[CV 5/5] END C=0.1, epsilon=0.2, gamma=0.0001, kernel=linear;, score=0.982 total time=   0.0s\n",
      "[CV 1/5] END C=0.1, epsilon=0.3, gamma=1, kernel=linear;, score=0.982 total time=   0.0s\n",
      "[CV 2/5] END C=0.1, epsilon=0.3, gamma=1, kernel=linear;, score=0.980 total time=   0.0s\n",
      "[CV 3/5] END C=0.1, epsilon=0.3, gamma=1, kernel=linear;, score=0.979 total time=   0.0s\n",
      "[CV 4/5] END C=0.1, epsilon=0.3, gamma=1, kernel=linear;, score=0.984 total time=   0.0s\n",
      "[CV 5/5] END C=0.1, epsilon=0.3, gamma=1, kernel=linear;, score=0.982 total time=   0.0s\n",
      "[CV 1/5] END C=0.1, epsilon=0.3, gamma=0.1, kernel=linear;, score=0.982 total time=   0.0s\n",
      "[CV 2/5] END C=0.1, epsilon=0.3, gamma=0.1, kernel=linear;, score=0.980 total time=   0.0s\n",
      "[CV 3/5] END C=0.1, epsilon=0.3, gamma=0.1, kernel=linear;, score=0.979 total time=   0.0s\n",
      "[CV 4/5] END C=0.1, epsilon=0.3, gamma=0.1, kernel=linear;, score=0.984 total time=   0.0s\n",
      "[CV 5/5] END C=0.1, epsilon=0.3, gamma=0.1, kernel=linear;, score=0.982 total time=   0.0s\n",
      "[CV 1/5] END C=0.1, epsilon=0.3, gamma=0.01, kernel=linear;, score=0.982 total time=   0.0s\n",
      "[CV 2/5] END C=0.1, epsilon=0.3, gamma=0.01, kernel=linear;, score=0.980 total time=   0.0s\n",
      "[CV 3/5] END C=0.1, epsilon=0.3, gamma=0.01, kernel=linear;, score=0.979 total time=   0.0s\n",
      "[CV 4/5] END C=0.1, epsilon=0.3, gamma=0.01, kernel=linear;, score=0.984 total time=   0.0s\n",
      "[CV 5/5] END C=0.1, epsilon=0.3, gamma=0.01, kernel=linear;, score=0.982 total time=   0.0s\n",
      "[CV 1/5] END C=0.1, epsilon=0.3, gamma=0.001, kernel=linear;, score=0.982 total time=   0.0s\n",
      "[CV 2/5] END C=0.1, epsilon=0.3, gamma=0.001, kernel=linear;, score=0.980 total time=   0.0s\n",
      "[CV 3/5] END C=0.1, epsilon=0.3, gamma=0.001, kernel=linear;, score=0.979 total time=   0.0s\n",
      "[CV 4/5] END C=0.1, epsilon=0.3, gamma=0.001, kernel=linear;, score=0.984 total time=   0.0s\n",
      "[CV 5/5] END C=0.1, epsilon=0.3, gamma=0.001, kernel=linear;, score=0.982 total time=   0.0s\n",
      "[CV 1/5] END C=0.1, epsilon=0.3, gamma=0.0001, kernel=linear;, score=0.982 total time=   0.0s\n",
      "[CV 2/5] END C=0.1, epsilon=0.3, gamma=0.0001, kernel=linear;, score=0.980 total time=   0.0s\n",
      "[CV 3/5] END C=0.1, epsilon=0.3, gamma=0.0001, kernel=linear;, score=0.979 total time=   0.0s\n",
      "[CV 4/5] END C=0.1, epsilon=0.3, gamma=0.0001, kernel=linear;, score=0.984 total time=   0.0s\n",
      "[CV 5/5] END C=0.1, epsilon=0.3, gamma=0.0001, kernel=linear;, score=0.982 total time=   0.0s\n",
      "[CV 1/5] END C=1, epsilon=0.1, gamma=1, kernel=linear;, score=0.988 total time=   0.0s\n",
      "[CV 2/5] END C=1, epsilon=0.1, gamma=1, kernel=linear;, score=0.987 total time=   0.0s\n",
      "[CV 3/5] END C=1, epsilon=0.1, gamma=1, kernel=linear;, score=0.984 total time=   0.0s\n",
      "[CV 4/5] END C=1, epsilon=0.1, gamma=1, kernel=linear;, score=0.989 total time=   0.0s\n",
      "[CV 5/5] END C=1, epsilon=0.1, gamma=1, kernel=linear;, score=0.987 total time=   0.0s\n",
      "[CV 1/5] END C=1, epsilon=0.1, gamma=0.1, kernel=linear;, score=0.988 total time=   0.0s\n",
      "[CV 2/5] END C=1, epsilon=0.1, gamma=0.1, kernel=linear;, score=0.987 total time=   0.0s\n",
      "[CV 3/5] END C=1, epsilon=0.1, gamma=0.1, kernel=linear;, score=0.984 total time=   0.0s\n",
      "[CV 4/5] END C=1, epsilon=0.1, gamma=0.1, kernel=linear;, score=0.989 total time=   0.0s\n",
      "[CV 5/5] END C=1, epsilon=0.1, gamma=0.1, kernel=linear;, score=0.987 total time=   0.0s\n",
      "[CV 1/5] END C=1, epsilon=0.1, gamma=0.01, kernel=linear;, score=0.988 total time=   0.0s\n",
      "[CV 2/5] END C=1, epsilon=0.1, gamma=0.01, kernel=linear;, score=0.987 total time=   0.0s\n",
      "[CV 3/5] END C=1, epsilon=0.1, gamma=0.01, kernel=linear;, score=0.984 total time=   0.0s\n",
      "[CV 4/5] END C=1, epsilon=0.1, gamma=0.01, kernel=linear;, score=0.989 total time=   0.0s\n",
      "[CV 5/5] END C=1, epsilon=0.1, gamma=0.01, kernel=linear;, score=0.987 total time=   0.0s\n",
      "[CV 1/5] END C=1, epsilon=0.1, gamma=0.001, kernel=linear;, score=0.988 total time=   0.0s\n",
      "[CV 2/5] END C=1, epsilon=0.1, gamma=0.001, kernel=linear;, score=0.987 total time=   0.0s\n",
      "[CV 3/5] END C=1, epsilon=0.1, gamma=0.001, kernel=linear;, score=0.984 total time=   0.0s\n",
      "[CV 4/5] END C=1, epsilon=0.1, gamma=0.001, kernel=linear;, score=0.989 total time=   0.0s\n",
      "[CV 5/5] END C=1, epsilon=0.1, gamma=0.001, kernel=linear;, score=0.987 total time=   0.0s\n",
      "[CV 1/5] END C=1, epsilon=0.1, gamma=0.0001, kernel=linear;, score=0.988 total time=   0.0s\n"
     ]
    },
    {
     "name": "stdout",
     "output_type": "stream",
     "text": [
      "[CV 2/5] END C=1, epsilon=0.1, gamma=0.0001, kernel=linear;, score=0.987 total time=   0.0s\n",
      "[CV 3/5] END C=1, epsilon=0.1, gamma=0.0001, kernel=linear;, score=0.984 total time=   0.0s\n",
      "[CV 4/5] END C=1, epsilon=0.1, gamma=0.0001, kernel=linear;, score=0.989 total time=   0.0s\n",
      "[CV 5/5] END C=1, epsilon=0.1, gamma=0.0001, kernel=linear;, score=0.987 total time=   0.0s\n",
      "[CV 1/5] END C=1, epsilon=0.2, gamma=1, kernel=linear;, score=0.988 total time=   0.0s\n",
      "[CV 2/5] END C=1, epsilon=0.2, gamma=1, kernel=linear;, score=0.987 total time=   0.0s\n",
      "[CV 3/5] END C=1, epsilon=0.2, gamma=1, kernel=linear;, score=0.984 total time=   0.0s\n",
      "[CV 4/5] END C=1, epsilon=0.2, gamma=1, kernel=linear;, score=0.989 total time=   0.0s\n",
      "[CV 5/5] END C=1, epsilon=0.2, gamma=1, kernel=linear;, score=0.987 total time=   0.0s\n",
      "[CV 1/5] END C=1, epsilon=0.2, gamma=0.1, kernel=linear;, score=0.988 total time=   0.0s\n",
      "[CV 2/5] END C=1, epsilon=0.2, gamma=0.1, kernel=linear;, score=0.987 total time=   0.0s\n",
      "[CV 3/5] END C=1, epsilon=0.2, gamma=0.1, kernel=linear;, score=0.984 total time=   0.0s\n",
      "[CV 4/5] END C=1, epsilon=0.2, gamma=0.1, kernel=linear;, score=0.989 total time=   0.0s\n",
      "[CV 5/5] END C=1, epsilon=0.2, gamma=0.1, kernel=linear;, score=0.987 total time=   0.0s\n",
      "[CV 1/5] END C=1, epsilon=0.2, gamma=0.01, kernel=linear;, score=0.988 total time=   0.0s\n",
      "[CV 2/5] END C=1, epsilon=0.2, gamma=0.01, kernel=linear;, score=0.987 total time=   0.0s\n",
      "[CV 3/5] END C=1, epsilon=0.2, gamma=0.01, kernel=linear;, score=0.984 total time=   0.0s\n",
      "[CV 4/5] END C=1, epsilon=0.2, gamma=0.01, kernel=linear;, score=0.989 total time=   0.0s\n",
      "[CV 5/5] END C=1, epsilon=0.2, gamma=0.01, kernel=linear;, score=0.987 total time=   0.0s\n",
      "[CV 1/5] END C=1, epsilon=0.2, gamma=0.001, kernel=linear;, score=0.988 total time=   0.0s\n",
      "[CV 2/5] END C=1, epsilon=0.2, gamma=0.001, kernel=linear;, score=0.987 total time=   0.0s\n",
      "[CV 3/5] END C=1, epsilon=0.2, gamma=0.001, kernel=linear;, score=0.984 total time=   0.0s\n",
      "[CV 4/5] END C=1, epsilon=0.2, gamma=0.001, kernel=linear;, score=0.989 total time=   0.0s\n",
      "[CV 5/5] END C=1, epsilon=0.2, gamma=0.001, kernel=linear;, score=0.987 total time=   0.0s\n",
      "[CV 1/5] END C=1, epsilon=0.2, gamma=0.0001, kernel=linear;, score=0.988 total time=   0.0s\n",
      "[CV 2/5] END C=1, epsilon=0.2, gamma=0.0001, kernel=linear;, score=0.987 total time=   0.0s\n",
      "[CV 3/5] END C=1, epsilon=0.2, gamma=0.0001, kernel=linear;, score=0.984 total time=   0.0s\n",
      "[CV 4/5] END C=1, epsilon=0.2, gamma=0.0001, kernel=linear;, score=0.989 total time=   0.0s\n",
      "[CV 5/5] END C=1, epsilon=0.2, gamma=0.0001, kernel=linear;, score=0.987 total time=   0.0s\n",
      "[CV 1/5] END C=1, epsilon=0.3, gamma=1, kernel=linear;, score=0.988 total time=   0.0s\n",
      "[CV 2/5] END C=1, epsilon=0.3, gamma=1, kernel=linear;, score=0.987 total time=   0.0s\n",
      "[CV 3/5] END C=1, epsilon=0.3, gamma=1, kernel=linear;, score=0.984 total time=   0.0s\n",
      "[CV 4/5] END C=1, epsilon=0.3, gamma=1, kernel=linear;, score=0.989 total time=   0.0s\n",
      "[CV 5/5] END C=1, epsilon=0.3, gamma=1, kernel=linear;, score=0.987 total time=   0.0s\n",
      "[CV 1/5] END C=1, epsilon=0.3, gamma=0.1, kernel=linear;, score=0.988 total time=   0.0s\n",
      "[CV 2/5] END C=1, epsilon=0.3, gamma=0.1, kernel=linear;, score=0.987 total time=   0.0s\n",
      "[CV 3/5] END C=1, epsilon=0.3, gamma=0.1, kernel=linear;, score=0.984 total time=   0.0s\n",
      "[CV 4/5] END C=1, epsilon=0.3, gamma=0.1, kernel=linear;, score=0.989 total time=   0.0s\n",
      "[CV 5/5] END C=1, epsilon=0.3, gamma=0.1, kernel=linear;, score=0.987 total time=   0.0s\n",
      "[CV 1/5] END C=1, epsilon=0.3, gamma=0.01, kernel=linear;, score=0.988 total time=   0.0s\n",
      "[CV 2/5] END C=1, epsilon=0.3, gamma=0.01, kernel=linear;, score=0.987 total time=   0.0s\n",
      "[CV 3/5] END C=1, epsilon=0.3, gamma=0.01, kernel=linear;, score=0.984 total time=   0.0s\n",
      "[CV 4/5] END C=1, epsilon=0.3, gamma=0.01, kernel=linear;, score=0.989 total time=   0.0s\n",
      "[CV 5/5] END C=1, epsilon=0.3, gamma=0.01, kernel=linear;, score=0.987 total time=   0.0s\n",
      "[CV 1/5] END C=1, epsilon=0.3, gamma=0.001, kernel=linear;, score=0.988 total time=   0.0s\n",
      "[CV 2/5] END C=1, epsilon=0.3, gamma=0.001, kernel=linear;, score=0.987 total time=   0.0s\n",
      "[CV 3/5] END C=1, epsilon=0.3, gamma=0.001, kernel=linear;, score=0.984 total time=   0.0s\n",
      "[CV 4/5] END C=1, epsilon=0.3, gamma=0.001, kernel=linear;, score=0.989 total time=   0.0s\n",
      "[CV 5/5] END C=1, epsilon=0.3, gamma=0.001, kernel=linear;, score=0.987 total time=   0.0s\n",
      "[CV 1/5] END C=1, epsilon=0.3, gamma=0.0001, kernel=linear;, score=0.988 total time=   0.0s\n",
      "[CV 2/5] END C=1, epsilon=0.3, gamma=0.0001, kernel=linear;, score=0.987 total time=   0.0s\n",
      "[CV 3/5] END C=1, epsilon=0.3, gamma=0.0001, kernel=linear;, score=0.984 total time=   0.0s\n",
      "[CV 4/5] END C=1, epsilon=0.3, gamma=0.0001, kernel=linear;, score=0.989 total time=   0.0s\n",
      "[CV 5/5] END C=1, epsilon=0.3, gamma=0.0001, kernel=linear;, score=0.987 total time=   0.0s\n",
      "[CV 1/5] END C=10, epsilon=0.1, gamma=1, kernel=linear;, score=0.988 total time=   0.0s\n",
      "[CV 2/5] END C=10, epsilon=0.1, gamma=1, kernel=linear;, score=0.988 total time=   0.0s\n",
      "[CV 3/5] END C=10, epsilon=0.1, gamma=1, kernel=linear;, score=0.984 total time=   0.0s\n",
      "[CV 4/5] END C=10, epsilon=0.1, gamma=1, kernel=linear;, score=0.990 total time=   0.0s\n",
      "[CV 5/5] END C=10, epsilon=0.1, gamma=1, kernel=linear;, score=0.987 total time=   0.0s\n",
      "[CV 1/5] END C=10, epsilon=0.1, gamma=0.1, kernel=linear;, score=0.988 total time=   0.0s\n",
      "[CV 2/5] END C=10, epsilon=0.1, gamma=0.1, kernel=linear;, score=0.988 total time=   0.0s\n",
      "[CV 3/5] END C=10, epsilon=0.1, gamma=0.1, kernel=linear;, score=0.984 total time=   0.0s\n",
      "[CV 4/5] END C=10, epsilon=0.1, gamma=0.1, kernel=linear;, score=0.990 total time=   0.0s\n",
      "[CV 5/5] END C=10, epsilon=0.1, gamma=0.1, kernel=linear;, score=0.987 total time=   0.0s\n",
      "[CV 1/5] END C=10, epsilon=0.1, gamma=0.01, kernel=linear;, score=0.988 total time=   0.0s\n",
      "[CV 2/5] END C=10, epsilon=0.1, gamma=0.01, kernel=linear;, score=0.988 total time=   0.0s\n",
      "[CV 3/5] END C=10, epsilon=0.1, gamma=0.01, kernel=linear;, score=0.984 total time=   0.0s\n",
      "[CV 4/5] END C=10, epsilon=0.1, gamma=0.01, kernel=linear;, score=0.990 total time=   0.0s\n",
      "[CV 5/5] END C=10, epsilon=0.1, gamma=0.01, kernel=linear;, score=0.987 total time=   0.0s\n",
      "[CV 1/5] END C=10, epsilon=0.1, gamma=0.001, kernel=linear;, score=0.988 total time=   0.0s\n",
      "[CV 2/5] END C=10, epsilon=0.1, gamma=0.001, kernel=linear;, score=0.988 total time=   0.0s\n",
      "[CV 3/5] END C=10, epsilon=0.1, gamma=0.001, kernel=linear;, score=0.984 total time=   0.0s\n",
      "[CV 4/5] END C=10, epsilon=0.1, gamma=0.001, kernel=linear;, score=0.990 total time=   0.0s\n",
      "[CV 5/5] END C=10, epsilon=0.1, gamma=0.001, kernel=linear;, score=0.987 total time=   0.0s\n",
      "[CV 1/5] END C=10, epsilon=0.1, gamma=0.0001, kernel=linear;, score=0.988 total time=   0.0s\n",
      "[CV 2/5] END C=10, epsilon=0.1, gamma=0.0001, kernel=linear;, score=0.988 total time=   0.0s\n",
      "[CV 3/5] END C=10, epsilon=0.1, gamma=0.0001, kernel=linear;, score=0.984 total time=   0.0s\n",
      "[CV 4/5] END C=10, epsilon=0.1, gamma=0.0001, kernel=linear;, score=0.990 total time=   0.0s\n",
      "[CV 5/5] END C=10, epsilon=0.1, gamma=0.0001, kernel=linear;, score=0.987 total time=   0.0s\n",
      "[CV 1/5] END C=10, epsilon=0.2, gamma=1, kernel=linear;, score=0.988 total time=   0.0s\n",
      "[CV 2/5] END C=10, epsilon=0.2, gamma=1, kernel=linear;, score=0.987 total time=   0.0s\n",
      "[CV 3/5] END C=10, epsilon=0.2, gamma=1, kernel=linear;, score=0.984 total time=   0.0s\n",
      "[CV 4/5] END C=10, epsilon=0.2, gamma=1, kernel=linear;, score=0.989 total time=   0.0s\n",
      "[CV 5/5] END C=10, epsilon=0.2, gamma=1, kernel=linear;, score=0.987 total time=   0.0s\n",
      "[CV 1/5] END C=10, epsilon=0.2, gamma=0.1, kernel=linear;, score=0.988 total time=   0.0s\n",
      "[CV 2/5] END C=10, epsilon=0.2, gamma=0.1, kernel=linear;, score=0.987 total time=   0.0s\n",
      "[CV 3/5] END C=10, epsilon=0.2, gamma=0.1, kernel=linear;, score=0.984 total time=   0.0s\n",
      "[CV 4/5] END C=10, epsilon=0.2, gamma=0.1, kernel=linear;, score=0.989 total time=   0.0s\n",
      "[CV 5/5] END C=10, epsilon=0.2, gamma=0.1, kernel=linear;, score=0.987 total time=   0.0s\n",
      "[CV 1/5] END C=10, epsilon=0.2, gamma=0.01, kernel=linear;, score=0.988 total time=   0.0s\n",
      "[CV 2/5] END C=10, epsilon=0.2, gamma=0.01, kernel=linear;, score=0.987 total time=   0.0s\n",
      "[CV 3/5] END C=10, epsilon=0.2, gamma=0.01, kernel=linear;, score=0.984 total time=   0.0s\n"
     ]
    },
    {
     "name": "stdout",
     "output_type": "stream",
     "text": [
      "[CV 4/5] END C=10, epsilon=0.2, gamma=0.01, kernel=linear;, score=0.989 total time=   0.0s\n",
      "[CV 5/5] END C=10, epsilon=0.2, gamma=0.01, kernel=linear;, score=0.987 total time=   0.0s\n",
      "[CV 1/5] END C=10, epsilon=0.2, gamma=0.001, kernel=linear;, score=0.988 total time=   0.0s\n",
      "[CV 2/5] END C=10, epsilon=0.2, gamma=0.001, kernel=linear;, score=0.987 total time=   0.0s\n",
      "[CV 3/5] END C=10, epsilon=0.2, gamma=0.001, kernel=linear;, score=0.984 total time=   0.0s\n",
      "[CV 4/5] END C=10, epsilon=0.2, gamma=0.001, kernel=linear;, score=0.989 total time=   0.0s\n",
      "[CV 5/5] END C=10, epsilon=0.2, gamma=0.001, kernel=linear;, score=0.987 total time=   0.0s\n",
      "[CV 1/5] END C=10, epsilon=0.2, gamma=0.0001, kernel=linear;, score=0.988 total time=   0.0s\n",
      "[CV 2/5] END C=10, epsilon=0.2, gamma=0.0001, kernel=linear;, score=0.987 total time=   0.0s\n",
      "[CV 3/5] END C=10, epsilon=0.2, gamma=0.0001, kernel=linear;, score=0.984 total time=   0.0s\n",
      "[CV 4/5] END C=10, epsilon=0.2, gamma=0.0001, kernel=linear;, score=0.989 total time=   0.0s\n",
      "[CV 5/5] END C=10, epsilon=0.2, gamma=0.0001, kernel=linear;, score=0.987 total time=   0.0s\n",
      "[CV 1/5] END C=10, epsilon=0.3, gamma=1, kernel=linear;, score=0.988 total time=   0.0s\n",
      "[CV 2/5] END C=10, epsilon=0.3, gamma=1, kernel=linear;, score=0.987 total time=   0.0s\n",
      "[CV 3/5] END C=10, epsilon=0.3, gamma=1, kernel=linear;, score=0.984 total time=   0.0s\n",
      "[CV 4/5] END C=10, epsilon=0.3, gamma=1, kernel=linear;, score=0.989 total time=   0.0s\n",
      "[CV 5/5] END C=10, epsilon=0.3, gamma=1, kernel=linear;, score=0.987 total time=   0.0s\n",
      "[CV 1/5] END C=10, epsilon=0.3, gamma=0.1, kernel=linear;, score=0.988 total time=   0.0s\n",
      "[CV 2/5] END C=10, epsilon=0.3, gamma=0.1, kernel=linear;, score=0.987 total time=   0.0s\n",
      "[CV 3/5] END C=10, epsilon=0.3, gamma=0.1, kernel=linear;, score=0.984 total time=   0.0s\n",
      "[CV 4/5] END C=10, epsilon=0.3, gamma=0.1, kernel=linear;, score=0.989 total time=   0.0s\n",
      "[CV 5/5] END C=10, epsilon=0.3, gamma=0.1, kernel=linear;, score=0.987 total time=   0.0s\n",
      "[CV 1/5] END C=10, epsilon=0.3, gamma=0.01, kernel=linear;, score=0.988 total time=   0.0s\n",
      "[CV 2/5] END C=10, epsilon=0.3, gamma=0.01, kernel=linear;, score=0.987 total time=   0.0s\n",
      "[CV 3/5] END C=10, epsilon=0.3, gamma=0.01, kernel=linear;, score=0.984 total time=   0.0s\n",
      "[CV 4/5] END C=10, epsilon=0.3, gamma=0.01, kernel=linear;, score=0.989 total time=   0.0s\n",
      "[CV 5/5] END C=10, epsilon=0.3, gamma=0.01, kernel=linear;, score=0.987 total time=   0.0s\n",
      "[CV 1/5] END C=10, epsilon=0.3, gamma=0.001, kernel=linear;, score=0.988 total time=   0.0s\n",
      "[CV 2/5] END C=10, epsilon=0.3, gamma=0.001, kernel=linear;, score=0.987 total time=   0.0s\n",
      "[CV 3/5] END C=10, epsilon=0.3, gamma=0.001, kernel=linear;, score=0.984 total time=   0.0s\n",
      "[CV 4/5] END C=10, epsilon=0.3, gamma=0.001, kernel=linear;, score=0.989 total time=   0.0s\n",
      "[CV 5/5] END C=10, epsilon=0.3, gamma=0.001, kernel=linear;, score=0.987 total time=   0.0s\n",
      "[CV 1/5] END C=10, epsilon=0.3, gamma=0.0001, kernel=linear;, score=0.988 total time=   0.0s\n",
      "[CV 2/5] END C=10, epsilon=0.3, gamma=0.0001, kernel=linear;, score=0.987 total time=   0.0s\n",
      "[CV 3/5] END C=10, epsilon=0.3, gamma=0.0001, kernel=linear;, score=0.984 total time=   0.0s\n",
      "[CV 4/5] END C=10, epsilon=0.3, gamma=0.0001, kernel=linear;, score=0.989 total time=   0.0s\n",
      "[CV 5/5] END C=10, epsilon=0.3, gamma=0.0001, kernel=linear;, score=0.987 total time=   0.0s\n",
      "[CV 1/5] END C=100, epsilon=0.1, gamma=1, kernel=linear;, score=0.988 total time=   0.0s\n",
      "[CV 2/5] END C=100, epsilon=0.1, gamma=1, kernel=linear;, score=0.988 total time=   0.0s\n",
      "[CV 3/5] END C=100, epsilon=0.1, gamma=1, kernel=linear;, score=0.984 total time=   0.0s\n",
      "[CV 4/5] END C=100, epsilon=0.1, gamma=1, kernel=linear;, score=0.990 total time=   0.0s\n",
      "[CV 5/5] END C=100, epsilon=0.1, gamma=1, kernel=linear;, score=0.987 total time=   0.0s\n",
      "[CV 1/5] END C=100, epsilon=0.1, gamma=0.1, kernel=linear;, score=0.988 total time=   0.0s\n",
      "[CV 2/5] END C=100, epsilon=0.1, gamma=0.1, kernel=linear;, score=0.988 total time=   0.0s\n",
      "[CV 3/5] END C=100, epsilon=0.1, gamma=0.1, kernel=linear;, score=0.984 total time=   0.0s\n",
      "[CV 4/5] END C=100, epsilon=0.1, gamma=0.1, kernel=linear;, score=0.990 total time=   0.0s\n",
      "[CV 5/5] END C=100, epsilon=0.1, gamma=0.1, kernel=linear;, score=0.987 total time=   0.0s\n",
      "[CV 1/5] END C=100, epsilon=0.1, gamma=0.01, kernel=linear;, score=0.988 total time=   0.0s\n",
      "[CV 2/5] END C=100, epsilon=0.1, gamma=0.01, kernel=linear;, score=0.988 total time=   0.0s\n",
      "[CV 3/5] END C=100, epsilon=0.1, gamma=0.01, kernel=linear;, score=0.984 total time=   0.0s\n",
      "[CV 4/5] END C=100, epsilon=0.1, gamma=0.01, kernel=linear;, score=0.990 total time=   0.0s\n",
      "[CV 5/5] END C=100, epsilon=0.1, gamma=0.01, kernel=linear;, score=0.987 total time=   0.0s\n",
      "[CV 1/5] END C=100, epsilon=0.1, gamma=0.001, kernel=linear;, score=0.988 total time=   0.0s\n",
      "[CV 2/5] END C=100, epsilon=0.1, gamma=0.001, kernel=linear;, score=0.988 total time=   0.0s\n",
      "[CV 3/5] END C=100, epsilon=0.1, gamma=0.001, kernel=linear;, score=0.984 total time=   0.0s\n",
      "[CV 4/5] END C=100, epsilon=0.1, gamma=0.001, kernel=linear;, score=0.990 total time=   0.0s\n",
      "[CV 5/5] END C=100, epsilon=0.1, gamma=0.001, kernel=linear;, score=0.987 total time=   0.0s\n",
      "[CV 1/5] END C=100, epsilon=0.1, gamma=0.0001, kernel=linear;, score=0.988 total time=   0.0s\n",
      "[CV 2/5] END C=100, epsilon=0.1, gamma=0.0001, kernel=linear;, score=0.988 total time=   0.0s\n",
      "[CV 3/5] END C=100, epsilon=0.1, gamma=0.0001, kernel=linear;, score=0.984 total time=   0.0s\n",
      "[CV 4/5] END C=100, epsilon=0.1, gamma=0.0001, kernel=linear;, score=0.990 total time=   0.0s\n",
      "[CV 5/5] END C=100, epsilon=0.1, gamma=0.0001, kernel=linear;, score=0.987 total time=   0.0s\n",
      "[CV 1/5] END C=100, epsilon=0.2, gamma=1, kernel=linear;, score=0.988 total time=   0.0s\n",
      "[CV 2/5] END C=100, epsilon=0.2, gamma=1, kernel=linear;, score=0.987 total time=   0.0s\n",
      "[CV 3/5] END C=100, epsilon=0.2, gamma=1, kernel=linear;, score=0.984 total time=   0.0s\n",
      "[CV 4/5] END C=100, epsilon=0.2, gamma=1, kernel=linear;, score=0.989 total time=   0.0s\n",
      "[CV 5/5] END C=100, epsilon=0.2, gamma=1, kernel=linear;, score=0.987 total time=   0.0s\n",
      "[CV 1/5] END C=100, epsilon=0.2, gamma=0.1, kernel=linear;, score=0.988 total time=   0.0s\n",
      "[CV 2/5] END C=100, epsilon=0.2, gamma=0.1, kernel=linear;, score=0.987 total time=   0.0s\n",
      "[CV 3/5] END C=100, epsilon=0.2, gamma=0.1, kernel=linear;, score=0.984 total time=   0.0s\n",
      "[CV 4/5] END C=100, epsilon=0.2, gamma=0.1, kernel=linear;, score=0.989 total time=   0.0s\n",
      "[CV 5/5] END C=100, epsilon=0.2, gamma=0.1, kernel=linear;, score=0.987 total time=   0.0s\n",
      "[CV 1/5] END C=100, epsilon=0.2, gamma=0.01, kernel=linear;, score=0.988 total time=   0.0s\n",
      "[CV 2/5] END C=100, epsilon=0.2, gamma=0.01, kernel=linear;, score=0.987 total time=   0.0s\n",
      "[CV 3/5] END C=100, epsilon=0.2, gamma=0.01, kernel=linear;, score=0.984 total time=   0.0s\n",
      "[CV 4/5] END C=100, epsilon=0.2, gamma=0.01, kernel=linear;, score=0.989 total time=   0.0s\n",
      "[CV 5/5] END C=100, epsilon=0.2, gamma=0.01, kernel=linear;, score=0.987 total time=   0.0s\n",
      "[CV 1/5] END C=100, epsilon=0.2, gamma=0.001, kernel=linear;, score=0.988 total time=   0.0s\n",
      "[CV 2/5] END C=100, epsilon=0.2, gamma=0.001, kernel=linear;, score=0.987 total time=   0.0s\n",
      "[CV 3/5] END C=100, epsilon=0.2, gamma=0.001, kernel=linear;, score=0.984 total time=   0.0s\n",
      "[CV 4/5] END C=100, epsilon=0.2, gamma=0.001, kernel=linear;, score=0.989 total time=   0.0s\n",
      "[CV 5/5] END C=100, epsilon=0.2, gamma=0.001, kernel=linear;, score=0.987 total time=   0.0s\n",
      "[CV 1/5] END C=100, epsilon=0.2, gamma=0.0001, kernel=linear;, score=0.988 total time=   0.0s\n",
      "[CV 2/5] END C=100, epsilon=0.2, gamma=0.0001, kernel=linear;, score=0.987 total time=   0.0s\n",
      "[CV 3/5] END C=100, epsilon=0.2, gamma=0.0001, kernel=linear;, score=0.984 total time=   0.0s\n",
      "[CV 4/5] END C=100, epsilon=0.2, gamma=0.0001, kernel=linear;, score=0.989 total time=   0.0s\n",
      "[CV 5/5] END C=100, epsilon=0.2, gamma=0.0001, kernel=linear;, score=0.987 total time=   0.0s\n",
      "[CV 1/5] END C=100, epsilon=0.3, gamma=1, kernel=linear;, score=0.988 total time=   0.0s\n",
      "[CV 2/5] END C=100, epsilon=0.3, gamma=1, kernel=linear;, score=0.987 total time=   0.0s\n",
      "[CV 3/5] END C=100, epsilon=0.3, gamma=1, kernel=linear;, score=0.984 total time=   0.0s\n"
     ]
    },
    {
     "name": "stdout",
     "output_type": "stream",
     "text": [
      "[CV 4/5] END C=100, epsilon=0.3, gamma=1, kernel=linear;, score=0.989 total time=   0.0s\n",
      "[CV 5/5] END C=100, epsilon=0.3, gamma=1, kernel=linear;, score=0.987 total time=   0.0s\n",
      "[CV 1/5] END C=100, epsilon=0.3, gamma=0.1, kernel=linear;, score=0.988 total time=   0.0s\n",
      "[CV 2/5] END C=100, epsilon=0.3, gamma=0.1, kernel=linear;, score=0.987 total time=   0.0s\n",
      "[CV 3/5] END C=100, epsilon=0.3, gamma=0.1, kernel=linear;, score=0.984 total time=   0.0s\n",
      "[CV 4/5] END C=100, epsilon=0.3, gamma=0.1, kernel=linear;, score=0.989 total time=   0.0s\n",
      "[CV 5/5] END C=100, epsilon=0.3, gamma=0.1, kernel=linear;, score=0.987 total time=   0.0s\n",
      "[CV 1/5] END C=100, epsilon=0.3, gamma=0.01, kernel=linear;, score=0.988 total time=   0.0s\n",
      "[CV 2/5] END C=100, epsilon=0.3, gamma=0.01, kernel=linear;, score=0.987 total time=   0.0s\n",
      "[CV 3/5] END C=100, epsilon=0.3, gamma=0.01, kernel=linear;, score=0.984 total time=   0.0s\n",
      "[CV 4/5] END C=100, epsilon=0.3, gamma=0.01, kernel=linear;, score=0.989 total time=   0.0s\n",
      "[CV 5/5] END C=100, epsilon=0.3, gamma=0.01, kernel=linear;, score=0.987 total time=   0.0s\n",
      "[CV 1/5] END C=100, epsilon=0.3, gamma=0.001, kernel=linear;, score=0.988 total time=   0.0s\n",
      "[CV 2/5] END C=100, epsilon=0.3, gamma=0.001, kernel=linear;, score=0.987 total time=   0.0s\n",
      "[CV 3/5] END C=100, epsilon=0.3, gamma=0.001, kernel=linear;, score=0.984 total time=   0.0s\n",
      "[CV 4/5] END C=100, epsilon=0.3, gamma=0.001, kernel=linear;, score=0.989 total time=   0.0s\n",
      "[CV 5/5] END C=100, epsilon=0.3, gamma=0.001, kernel=linear;, score=0.987 total time=   0.0s\n",
      "[CV 1/5] END C=100, epsilon=0.3, gamma=0.0001, kernel=linear;, score=0.988 total time=   0.0s\n",
      "[CV 2/5] END C=100, epsilon=0.3, gamma=0.0001, kernel=linear;, score=0.987 total time=   0.0s\n",
      "[CV 3/5] END C=100, epsilon=0.3, gamma=0.0001, kernel=linear;, score=0.984 total time=   0.0s\n",
      "[CV 4/5] END C=100, epsilon=0.3, gamma=0.0001, kernel=linear;, score=0.989 total time=   0.0s\n",
      "[CV 5/5] END C=100, epsilon=0.3, gamma=0.0001, kernel=linear;, score=0.987 total time=   0.0s\n",
      "[CV 1/5] END C=1000, epsilon=0.1, gamma=1, kernel=linear;, score=0.988 total time=   0.4s\n",
      "[CV 2/5] END C=1000, epsilon=0.1, gamma=1, kernel=linear;, score=0.988 total time=   0.4s\n",
      "[CV 3/5] END C=1000, epsilon=0.1, gamma=1, kernel=linear;, score=0.984 total time=   0.3s\n",
      "[CV 4/5] END C=1000, epsilon=0.1, gamma=1, kernel=linear;, score=0.990 total time=   0.3s\n",
      "[CV 5/5] END C=1000, epsilon=0.1, gamma=1, kernel=linear;, score=0.987 total time=   0.5s\n",
      "[CV 1/5] END C=1000, epsilon=0.1, gamma=0.1, kernel=linear;, score=0.988 total time=   0.4s\n",
      "[CV 2/5] END C=1000, epsilon=0.1, gamma=0.1, kernel=linear;, score=0.988 total time=   0.4s\n",
      "[CV 3/5] END C=1000, epsilon=0.1, gamma=0.1, kernel=linear;, score=0.984 total time=   0.3s\n",
      "[CV 4/5] END C=1000, epsilon=0.1, gamma=0.1, kernel=linear;, score=0.990 total time=   0.3s\n",
      "[CV 5/5] END C=1000, epsilon=0.1, gamma=0.1, kernel=linear;, score=0.987 total time=   0.5s\n",
      "[CV 1/5] END C=1000, epsilon=0.1, gamma=0.01, kernel=linear;, score=0.988 total time=   0.4s\n",
      "[CV 2/5] END C=1000, epsilon=0.1, gamma=0.01, kernel=linear;, score=0.988 total time=   0.4s\n",
      "[CV 3/5] END C=1000, epsilon=0.1, gamma=0.01, kernel=linear;, score=0.984 total time=   0.3s\n",
      "[CV 4/5] END C=1000, epsilon=0.1, gamma=0.01, kernel=linear;, score=0.990 total time=   0.3s\n",
      "[CV 5/5] END C=1000, epsilon=0.1, gamma=0.01, kernel=linear;, score=0.987 total time=   0.5s\n",
      "[CV 1/5] END C=1000, epsilon=0.1, gamma=0.001, kernel=linear;, score=0.988 total time=   0.4s\n",
      "[CV 2/5] END C=1000, epsilon=0.1, gamma=0.001, kernel=linear;, score=0.988 total time=   0.4s\n",
      "[CV 3/5] END C=1000, epsilon=0.1, gamma=0.001, kernel=linear;, score=0.984 total time=   0.3s\n",
      "[CV 4/5] END C=1000, epsilon=0.1, gamma=0.001, kernel=linear;, score=0.990 total time=   0.3s\n",
      "[CV 5/5] END C=1000, epsilon=0.1, gamma=0.001, kernel=linear;, score=0.987 total time=   0.5s\n",
      "[CV 1/5] END C=1000, epsilon=0.1, gamma=0.0001, kernel=linear;, score=0.988 total time=   0.4s\n",
      "[CV 2/5] END C=1000, epsilon=0.1, gamma=0.0001, kernel=linear;, score=0.988 total time=   0.4s\n",
      "[CV 3/5] END C=1000, epsilon=0.1, gamma=0.0001, kernel=linear;, score=0.984 total time=   0.3s\n",
      "[CV 4/5] END C=1000, epsilon=0.1, gamma=0.0001, kernel=linear;, score=0.990 total time=   0.3s\n",
      "[CV 5/5] END C=1000, epsilon=0.1, gamma=0.0001, kernel=linear;, score=0.987 total time=   0.5s\n",
      "[CV 1/5] END C=1000, epsilon=0.2, gamma=1, kernel=linear;, score=0.988 total time=   0.4s\n",
      "[CV 2/5] END C=1000, epsilon=0.2, gamma=1, kernel=linear;, score=0.987 total time=   0.4s\n",
      "[CV 3/5] END C=1000, epsilon=0.2, gamma=1, kernel=linear;, score=0.984 total time=   0.3s\n",
      "[CV 4/5] END C=1000, epsilon=0.2, gamma=1, kernel=linear;, score=0.989 total time=   0.3s\n",
      "[CV 5/5] END C=1000, epsilon=0.2, gamma=1, kernel=linear;, score=0.987 total time=   0.3s\n",
      "[CV 1/5] END C=1000, epsilon=0.2, gamma=0.1, kernel=linear;, score=0.988 total time=   0.4s\n",
      "[CV 2/5] END C=1000, epsilon=0.2, gamma=0.1, kernel=linear;, score=0.987 total time=   0.4s\n",
      "[CV 3/5] END C=1000, epsilon=0.2, gamma=0.1, kernel=linear;, score=0.984 total time=   0.3s\n",
      "[CV 4/5] END C=1000, epsilon=0.2, gamma=0.1, kernel=linear;, score=0.989 total time=   0.3s\n",
      "[CV 5/5] END C=1000, epsilon=0.2, gamma=0.1, kernel=linear;, score=0.987 total time=   0.4s\n",
      "[CV 1/5] END C=1000, epsilon=0.2, gamma=0.01, kernel=linear;, score=0.988 total time=   0.5s\n",
      "[CV 2/5] END C=1000, epsilon=0.2, gamma=0.01, kernel=linear;, score=0.987 total time=   0.5s\n",
      "[CV 3/5] END C=1000, epsilon=0.2, gamma=0.01, kernel=linear;, score=0.984 total time=   0.5s\n",
      "[CV 4/5] END C=1000, epsilon=0.2, gamma=0.01, kernel=linear;, score=0.989 total time=   0.4s\n",
      "[CV 5/5] END C=1000, epsilon=0.2, gamma=0.01, kernel=linear;, score=0.987 total time=   0.4s\n",
      "[CV 1/5] END C=1000, epsilon=0.2, gamma=0.001, kernel=linear;, score=0.988 total time=   0.5s\n",
      "[CV 2/5] END C=1000, epsilon=0.2, gamma=0.001, kernel=linear;, score=0.987 total time=   0.4s\n",
      "[CV 3/5] END C=1000, epsilon=0.2, gamma=0.001, kernel=linear;, score=0.984 total time=   0.4s\n",
      "[CV 4/5] END C=1000, epsilon=0.2, gamma=0.001, kernel=linear;, score=0.989 total time=   0.3s\n",
      "[CV 5/5] END C=1000, epsilon=0.2, gamma=0.001, kernel=linear;, score=0.987 total time=   0.4s\n",
      "[CV 1/5] END C=1000, epsilon=0.2, gamma=0.0001, kernel=linear;, score=0.988 total time=   0.5s\n",
      "[CV 2/5] END C=1000, epsilon=0.2, gamma=0.0001, kernel=linear;, score=0.987 total time=   0.5s\n",
      "[CV 3/5] END C=1000, epsilon=0.2, gamma=0.0001, kernel=linear;, score=0.984 total time=   0.4s\n",
      "[CV 4/5] END C=1000, epsilon=0.2, gamma=0.0001, kernel=linear;, score=0.989 total time=   0.4s\n",
      "[CV 5/5] END C=1000, epsilon=0.2, gamma=0.0001, kernel=linear;, score=0.987 total time=   0.4s\n",
      "[CV 1/5] END C=1000, epsilon=0.3, gamma=1, kernel=linear;, score=0.988 total time=   0.7s\n",
      "[CV 2/5] END C=1000, epsilon=0.3, gamma=1, kernel=linear;, score=0.987 total time=   0.5s\n",
      "[CV 3/5] END C=1000, epsilon=0.3, gamma=1, kernel=linear;, score=0.984 total time=   0.3s\n",
      "[CV 4/5] END C=1000, epsilon=0.3, gamma=1, kernel=linear;, score=0.989 total time=   0.3s\n",
      "[CV 5/5] END C=1000, epsilon=0.3, gamma=1, kernel=linear;, score=0.987 total time=   0.3s\n",
      "[CV 1/5] END C=1000, epsilon=0.3, gamma=0.1, kernel=linear;, score=0.988 total time=   0.4s\n",
      "[CV 2/5] END C=1000, epsilon=0.3, gamma=0.1, kernel=linear;, score=0.987 total time=   0.3s\n",
      "[CV 3/5] END C=1000, epsilon=0.3, gamma=0.1, kernel=linear;, score=0.984 total time=   0.3s\n",
      "[CV 4/5] END C=1000, epsilon=0.3, gamma=0.1, kernel=linear;, score=0.989 total time=   0.3s\n",
      "[CV 5/5] END C=1000, epsilon=0.3, gamma=0.1, kernel=linear;, score=0.987 total time=   0.3s\n",
      "[CV 1/5] END C=1000, epsilon=0.3, gamma=0.01, kernel=linear;, score=0.988 total time=   0.4s\n",
      "[CV 2/5] END C=1000, epsilon=0.3, gamma=0.01, kernel=linear;, score=0.987 total time=   0.3s\n",
      "[CV 3/5] END C=1000, epsilon=0.3, gamma=0.01, kernel=linear;, score=0.984 total time=   0.3s\n",
      "[CV 4/5] END C=1000, epsilon=0.3, gamma=0.01, kernel=linear;, score=0.989 total time=   0.2s\n",
      "[CV 5/5] END C=1000, epsilon=0.3, gamma=0.01, kernel=linear;, score=0.987 total time=   0.3s\n",
      "[CV 1/5] END C=1000, epsilon=0.3, gamma=0.001, kernel=linear;, score=0.988 total time=   0.4s\n",
      "[CV 2/5] END C=1000, epsilon=0.3, gamma=0.001, kernel=linear;, score=0.987 total time=   0.3s\n"
     ]
    },
    {
     "name": "stdout",
     "output_type": "stream",
     "text": [
      "[CV 3/5] END C=1000, epsilon=0.3, gamma=0.001, kernel=linear;, score=0.984 total time=   0.3s\n",
      "[CV 4/5] END C=1000, epsilon=0.3, gamma=0.001, kernel=linear;, score=0.989 total time=   0.3s\n",
      "[CV 5/5] END C=1000, epsilon=0.3, gamma=0.001, kernel=linear;, score=0.987 total time=   0.3s\n",
      "[CV 1/5] END C=1000, epsilon=0.3, gamma=0.0001, kernel=linear;, score=0.988 total time=   0.5s\n",
      "[CV 2/5] END C=1000, epsilon=0.3, gamma=0.0001, kernel=linear;, score=0.987 total time=   0.4s\n",
      "[CV 3/5] END C=1000, epsilon=0.3, gamma=0.0001, kernel=linear;, score=0.984 total time=   0.4s\n",
      "[CV 4/5] END C=1000, epsilon=0.3, gamma=0.0001, kernel=linear;, score=0.989 total time=   0.3s\n",
      "[CV 5/5] END C=1000, epsilon=0.3, gamma=0.0001, kernel=linear;, score=0.987 total time=   0.3s\n"
     ]
    },
    {
     "data": {
      "text/plain": [
       "GridSearchCV(cv=5, estimator=SVR(),\n",
       "             param_grid={'C': [0.1, 1, 10, 100, 1000],\n",
       "                         'epsilon': [0.1, 0.2, 0.3],\n",
       "                         'gamma': [1, 0.1, 0.01, 0.001, 0.0001],\n",
       "                         'kernel': ['linear']},\n",
       "             verbose=3)"
      ]
     },
     "execution_count": 28,
     "metadata": {},
     "output_type": "execute_result"
    }
   ],
   "source": [
    "grid.fit(X_train,y_train)"
   ]
  },
  {
   "cell_type": "code",
   "execution_count": 31,
   "metadata": {
    "colab": {
     "base_uri": "https://localhost:8080/"
    },
    "executionInfo": {
     "elapsed": 438,
     "status": "ok",
     "timestamp": 1693386232071,
     "user": {
      "displayName": "Vipil Khapre",
      "userId": "11657927420291305997"
     },
     "user_tz": -330
    },
    "id": "aiAhWmiEqIq8",
    "outputId": "824dce68-e429-4788-e842-6ebc502e80d2"
   },
   "outputs": [
    {
     "data": {
      "text/plain": [
       "{'C': 10, 'epsilon': 0.3, 'gamma': 1, 'kernel': 'linear'}"
      ]
     },
     "execution_count": 31,
     "metadata": {},
     "output_type": "execute_result"
    }
   ],
   "source": [
    "grid.best_params_"
   ]
  },
  {
   "cell_type": "code",
   "execution_count": 32,
   "metadata": {
    "colab": {
     "base_uri": "https://localhost:8080/"
    },
    "executionInfo": {
     "elapsed": 15,
     "status": "ok",
     "timestamp": 1693386235597,
     "user": {
      "displayName": "Vipil Khapre",
      "userId": "11657927420291305997"
     },
     "user_tz": -330
    },
    "id": "m4Xa7ScMqIq9",
    "outputId": "db38dc21-091f-481a-9155-b090bfc9fa5c"
   },
   "outputs": [
    {
     "name": "stdout",
     "output_type": "stream",
     "text": [
      "0.9886005961564003\n"
     ]
    }
   ],
   "source": [
    "## Prediction\n",
    "y_pred4=grid.predict(X_test)\n",
    "print(r2_score(y_test,y_pred4))"
   ]
  },
  {
   "cell_type": "code",
   "execution_count": null,
   "metadata": {
    "id": "VUH5RByIqIq9"
   },
   "outputs": [],
   "source": []
  },
  {
   "cell_type": "code",
   "execution_count": null,
   "metadata": {},
   "outputs": [],
   "source": []
  },
  {
   "cell_type": "code",
   "execution_count": null,
   "metadata": {},
   "outputs": [],
   "source": []
  },
  {
   "cell_type": "code",
   "execution_count": null,
   "metadata": {},
   "outputs": [],
   "source": []
  }
 ],
 "metadata": {
  "colab": {
   "provenance": []
  },
  "kernelspec": {
   "display_name": "Python 3",
   "language": "python",
   "name": "python3"
  },
  "language_info": {
   "codemirror_mode": {
    "name": "ipython",
    "version": 3
   },
   "file_extension": ".py",
   "mimetype": "text/x-python",
   "name": "python",
   "nbconvert_exporter": "python",
   "pygments_lexer": "ipython3",
   "version": "3.7.4"
  }
 },
 "nbformat": 4,
 "nbformat_minor": 1
}
